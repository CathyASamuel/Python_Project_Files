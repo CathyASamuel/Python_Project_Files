{
 "cells": [
  {
   "cell_type": "code",
   "execution_count": 1,
   "metadata": {},
   "outputs": [
    {
     "name": "stdout",
     "output_type": "stream",
     "text": [
      "city,country,month ave: highest high,month ave: lowest low\n",
      "\n",
      "Beijing 30.9\n",
      "Cairo 34.7\n",
      "London 23.5\n",
      "Nairobi 26.3\n",
      "New York City 28.9\n",
      "Sydney 26.5\n",
      "Tokyo 30.8\n"
     ]
    }
   ],
   "source": [
    "temp_file = open('mean_temp.txt', 'r')\n",
    "headings = temp_file.readline()\n",
    "print(headings)\n",
    "\n",
    "while True:    \n",
    "    city_temp = temp_file.readline().split(',')\n",
    "    if len(city_temp) == 1: # kludge\n",
    "        break        \n",
    "    print(city_temp[0], str(city_temp[2]))\n",
    "\n",
    " "
   ]
  }
 ],
 "metadata": {
  "interpreter": {
   "hash": "35c1ecb0f046c6524e5e1a9385dff1bcc3872e24fdc6f1de04dc6fc3393ca3ab"
  },
  "kernelspec": {
   "display_name": "Python 3.10.4 64-bit (windows store)",
   "language": "python",
   "name": "python3"
  },
  "language_info": {
   "codemirror_mode": {
    "name": "ipython",
    "version": 3
   },
   "file_extension": ".py",
   "mimetype": "text/x-python",
   "name": "python",
   "nbconvert_exporter": "python",
   "pygments_lexer": "ipython3",
   "version": "3.10.4"
  },
  "orig_nbformat": 4
 },
 "nbformat": 4,
 "nbformat_minor": 2
}
