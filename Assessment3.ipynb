{
 "cells": [
  {
   "cell_type": "code",
   "execution_count": 2,
   "metadata": {},
   "outputs": [
    {
     "name": "stdout",
     "output_type": "stream",
     "text": [
      "ALLERGY CHECK PROGRAM\n",
      "Was dairy eaten?  False\n",
      "Was nuts eaten?  False\n",
      "Was seafood eaten?  False\n",
      "Was chocolate eaten?  True\n"
     ]
    }
   ],
   "source": [
    "# Allergy check \n",
    "# 1[ ] get input for test\n",
    "# 2/3[ ] print True if \"dairy\" is in the input or False if not\n",
    "# 4[ ] Check if \"nuts\" are in the input\n",
    "# 4+[ ] Challenge: Check if \"seafood\" is in the input\n",
    "# 4+[ ] Challenge: Check if \"chocolate\" is in the input\n",
    "print(\"ALLERGY CHECK PROGRAM\")\n",
    "input_test = input(\"Enter category of food eaten in the last 24 hours: \").lower()\n",
    "\n",
    "print(\"Was dairy eaten? \", \"dairy\" in input_test)\n",
    "print(\"Was nuts eaten? \", \"nuts\" in input_test)\n",
    "print(\"Was seafood eaten? \", \"seafood\" in input_test)\n",
    "print(\"Was chocolate eaten? \" , \"chocolate\" in input_test)"
   ]
  }
 ],
 "metadata": {
  "interpreter": {
   "hash": "2be5faf79681da6f2a61fdfdd5405d65d042280f7fba6178067603e3a2925119"
  },
  "kernelspec": {
   "display_name": "Python 3.10.4 64-bit",
   "language": "python",
   "name": "python3"
  },
  "language_info": {
   "codemirror_mode": {
    "name": "ipython",
    "version": 3
   },
   "file_extension": ".py",
   "mimetype": "text/x-python",
   "name": "python",
   "nbconvert_exporter": "python",
   "pygments_lexer": "ipython3",
   "version": "3.10.4"
  },
  "orig_nbformat": 4
 },
 "nbformat": 4,
 "nbformat_minor": 2
}
