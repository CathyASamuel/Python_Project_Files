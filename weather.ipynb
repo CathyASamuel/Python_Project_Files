{
 "cells": [
  {
   "cell_type": "code",
   "execution_count": 26,
   "metadata": {},
   "outputs": [
    {
     "name": "stdout",
     "output_type": "stream",
     "text": [
      "City of Beijing month ave: highest high is 30.9 Celsius\n",
      "City of Cairo month ave: highest high is 34.7 Celsius\n",
      "City of London month ave: highest high is 23.5 Celsius\n",
      "City of Nairobi month ave: highest high is 26.3 Celsius\n",
      "City of New York City month ave: highest high is 28.9 Celsius\n",
      "City of Sydney month ave: highest high is 26.5 Celsius\n",
      "City of Tokyo month ave: highest high is 30.8 Celsius\n",
      "City of Rio de Janeiro month ave: highest high is 30.0 Celsius\n",
      "['city', 'country', 'month ave: highest high', 'month ave: lowest low\\n']\n",
      "month ave: highest high for  Beijing is 30.9 Celsius\n",
      "month ave: highest high for  Cairo is 34.7 Celsius\n",
      "month ave: highest high for  London is 23.5 Celsius\n",
      "month ave: highest high for  Nairobi is 26.3 Celsius\n",
      "month ave: highest high for  New York City is 28.9 Celsius\n",
      "month ave: highest high for  Sydney is 26.5 Celsius\n",
      "month ave: highest high for  Tokyo is 30.8 Celsius\n",
      "month ave: highest high for  Rio de Janeiro is 30.0 Celsius\n"
     ]
    }
   ],
   "source": [
    "temp_file = open('mean_temp.txt', 'r')\n",
    "headings = temp_file.readline()\n",
    "\n",
    "while True:    \n",
    "    city_temp = temp_file.readline().split(',')\n",
    "    if len(city_temp) == 1: \n",
    "        break        \n",
    "    print(\"City of\",city_temp[0], \"month ave: highest high is\",str(city_temp[2]),\"Celsius\")\n",
    "\n",
    "#Open the file in append plus mode ('a+')\n",
    "#Write a new line for Rio de Janeiro \"Rio de Janeiro,Brazil,30.0,18.0\\n\"\n",
    "append_file = open('mean_temp.txt', 'a+')\n",
    "append_file.write(\"Rio de Janeiro,Brazil,30.0,18.0\\n\")\n",
    "\n",
    "#use .seek() to move the pointer to the beginning of the file\n",
    "#read the first line of text into a variable called: headings\n",
    "#convert headings to a list using .split(',') which splits on each comma\n",
    "append_file.seek(0)\n",
    "headings = append_file.readline()\n",
    "new_headings = headings.split(\",\")\n",
    "print(new_headings)\n",
    "\n",
    "#assign remaining lines to a city_temp variable\n",
    "#convert the city_temp to a list using .split(',') for each .readline() in the loop\n",
    "#print each city & the highest monthly average temperature\n",
    "#\"month ave: highest high\" for Beijing is 30.9 Celsius\n",
    "tracker = int(len(headings))\n",
    "temp_file.seek(0,0)\n",
    "temp_file.read(tracker)\n",
    "while True:    \n",
    "    city_temp = temp_file.readline().split(',')\n",
    "    if len(city_temp) == 1: \n",
    "        break        \n",
    "    print(\"month ave: highest high for \",city_temp[0], \"is\",str(city_temp[2]),\"Celsius\")\n",
    "\n",
    "#close mean_temps\n",
    "temp_file.close()\n",
    "\n"
   ]
  }
 ],
 "metadata": {
  "interpreter": {
   "hash": "35c1ecb0f046c6524e5e1a9385dff1bcc3872e24fdc6f1de04dc6fc3393ca3ab"
  },
  "kernelspec": {
   "display_name": "Python 3.10.4 64-bit (windows store)",
   "language": "python",
   "name": "python3"
  },
  "language_info": {
   "codemirror_mode": {
    "name": "ipython",
    "version": 3
   },
   "file_extension": ".py",
   "mimetype": "text/x-python",
   "name": "python",
   "nbconvert_exporter": "python",
   "pygments_lexer": "ipython3",
   "version": "3.10.4"
  },
  "orig_nbformat": 4
 },
 "nbformat": 4,
 "nbformat_minor": 2
}
