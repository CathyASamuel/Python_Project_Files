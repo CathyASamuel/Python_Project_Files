{
 "cells": [
  {
   "cell_type": "code",
   "execution_count": 5,
   "metadata": {},
   "outputs": [
    {
     "name": "stdout",
     "output_type": "stream",
     "text": [
      "solid is a state of matter # 1\n",
      "liquid is a state of matter # 2\n",
      "gas is a state of matter # 3\n",
      "plasma is a state of matter # 4\n",
      "['turkey', 'hawk', 'chicken', 'dove', 'crow']\n",
      "turkey\thawk\tdove\t\n",
      "The occurrence of each type of basket: 1pt- 4 \t 2pt- 16 \t 3pt- 9\n"
     ]
    }
   ],
   "source": [
    "# [ ] print out the \"physical states of matter\" (matter_states) in 4 sentences using list iteration\n",
    "# each sentence should be of the format: \"Solid - is state of matter #1\" \n",
    "import re\n",
    "matter_states = ['solid', 'liquid', 'gas', 'plasma']\n",
    "index = 0\n",
    "for state in matter_states:\n",
    "    print(state,\"is a state of matter #\",matter_states.index(state)+1)\n",
    "# [ ] iterate the list (birds) to see any bird names start with \"c\" and remove that item from the list\n",
    "# print the birds list before and after removals\n",
    "birds = [\"turkey\", \"hawk\", \"chicken\", \"dove\", \"crow\"]\n",
    "list = \"\"\n",
    "print(birds)\n",
    "for name in birds:\n",
    "    if name.startswith(\"c\") != True:\n",
    "        list += name + \"\\t\"   \n",
    "print(list)\n",
    "# the team makes 1pt, 2pt or 3pt baskets\n",
    "# [ ] print the occurrence of each type of basket(1pt, 2pt, 3pt) & total points using the list baskets\n",
    "baskets = [2,2,2,1,2,1,3,3,1,2,2,2,2,1,3]\n",
    "point_3 = 0\n",
    "point_2 = 0\n",
    "point_1 = 0\n",
    "for points in baskets:\n",
    "    if points == 3:\n",
    "        point_3 += points\n",
    "    if points == 2:\n",
    "        point_2 += points\n",
    "    if points == 1:\n",
    "        point_1 += points\n",
    "print(\"The occurrence of each type of basket: 1pt-\",point_1,\"\\t\",\"2pt-\",point_2,\"\\t\",\"3pt-\",point_3)"
   ]
  },
  {
   "cell_type": "code",
   "execution_count": 88,
   "metadata": {},
   "outputs": [
    {
     "name": "stdout",
     "output_type": "stream",
     "text": [
      "hello\n",
      "hello\n",
      "hello\n",
      "hello\n",
      "7\n",
      "First half: ['Tuesday', 'Wednesday', 'February']\n",
      "Second half: ['Annual', 'Calendar', 'Solstice']\n",
      "[20, 21, 22, 23, 24, 25, 26, 27, 28, 29]\n",
      "245\n",
      "245\n"
     ]
    }
   ],
   "source": [
    "# [ ] using range() print \"hello\" 4 times\n",
    "for i in range(4):\n",
    "    print(\"hello\")\n",
    "# [ ] find spell_list length\n",
    "# [ ] use range() to iterate each half of spell_list  \n",
    "# [ ] label & print the first and second halves\n",
    "spell_list = [\"Tuesday\", \"Wednesday\", \"February\", \"November\", \"Annual\", \"Calendar\", \"Solstice\"]\n",
    "print(len(spell_list))\n",
    "spell_list_length = len(spell_list)\n",
    "spell_list_half = (spell_list_length)//2\n",
    "first_half = range(0,spell_list_half)\n",
    "second_half = range((spell_list_half)+1,spell_list_length)\n",
    "#for i in range(first_half):\n",
    "#    print(i)\n",
    "first_half_list = spell_list[:spell_list_half]\n",
    "second_half_list = spell_list[spell_list_half+1:]\n",
    "print(\"First half:\", first_half_list) \n",
    "print(\"Second half:\",second_half_list)   \n",
    "# [ ] build a list of numbers from 20 to 29: twenties \n",
    "# append each number to twenties list using range(start,stop) iteration\n",
    "# [ ] print twenties\n",
    "twenties = []\n",
    "for i in range(20,30):\n",
    "\ttwenties.append(i)\n",
    "print(twenties)\n",
    "# [ ] iterate through the numbers populated in the list twenties and add each number to a variable: total\n",
    "# [ ] print total\n",
    "total = 0\n",
    "for number in twenties:\n",
    "    total += number\n",
    "print(total)    \n",
    "# check your answer above using range(start,stop)\n",
    "# [ ] iterate each number from 20 to 29 using range()\n",
    "# [ ] add each number to a variable (total) to calculate the sum\n",
    "# should match earlier task \n",
    "total = 0\n",
    "for num in range(20,30):\n",
    "    total += num\n",
    "print(total)\n",
    "        \n"
   ]
  },
  {
   "cell_type": "code",
   "execution_count": 107,
   "metadata": {},
   "outputs": [
    {
     "name": "stdout",
     "output_type": "stream",
     "text": [
      "[1, 3, 5, 7, 9, 11, 13, 15, 17, 19, 21, 23, 25]\n",
      "[25, 23, 21, 19, 17, 15, 13, 11, 9, 7, 5, 3, 1]\n",
      "2 - Helium\n",
      "4 - Beryllium\n",
      "6 - Carbon\n",
      "8 - Oxygen\n",
      "10 - Neon\n",
      "12 - Magnesium\n",
      "14 - Silicon\n",
      "16 - Sulfur\n",
      "18 - Argon\n",
      "20 - Calcium\n",
      "1 - Hydrogen\n",
      "3 - Lithium\n",
      "5 - Boron\n",
      "7 - Nitrogen\n",
      "9 - Fluorine\n",
      "11 - Sodium\n",
      "13 - Aluminum\n",
      "15 - Phosphorus\n",
      "17 - Chlorine\n",
      "19 - Potassium\n"
     ]
    }
   ],
   "source": [
    "# [ ] create a list of odd numbers (odd_nums) from 1 to 25 using range(start,stop,skip)\n",
    "# [ ] print odd_nums\n",
    "# hint: odd numbers are 2 digits apart\n",
    "odd_nums = []\n",
    "for num in range(1,26,2):\n",
    "    odd_nums.append(num)\n",
    "print(odd_nums)\n",
    "# [ ] create a Decending list of odd numbers (odd_nums) from 25 to 1 using range(start,stop,skip)\n",
    "# [ ] print odd_nums,  output should resemble [25, 23, ...]\n",
    "for num in range(26,1,2):\n",
    "    odd_nums.append(num)\n",
    "odd_nums.reverse()   \n",
    "print(odd_nums)\n",
    "# the list, elements, contains the names of the first 20 elements in atomic number order\n",
    "# [ ] print the even number elements \"2 - Helium, 4 - Beryllium,..\" in the list with the atomic number\n",
    "elements = ['Hydrogen', 'Helium', 'Lithium', 'Beryllium', 'Boron', 'Carbon', 'Nitrogen', 'Oxygen', 'Fluorine', \\\n",
    " 'Neon', 'Sodium', 'Magnesium', 'Aluminum', 'Silicon', 'Phosphorus', 'Sulfur', 'Chlorine', 'Argon', \\\n",
    " 'Potassium', 'Calcium']\n",
    "new_elements_list = elements[1::2]\n",
    "length = len(elements)\n",
    "for word in range(1,length,2):\n",
    "    print(word + 1, \"-\" ,elements[word])\n",
    "\n",
    "# [ ] the list, elements_40, contains the names of the first 40 elements in atomic number order\n",
    "# [ ] print the odd number elements \"1 - Hydrogen, 3 - Lithium,..\" in the list with the atomic number elements_40\n",
    "elements_40 = ['Hydrogen', \\\n",
    " 'Helium', 'Lithium', 'Beryllium', 'Boron', 'Carbon', 'Nitrogen', 'Oxygen', 'Fluorine', \\\n",
    " 'Neon', 'Sodium', 'Magnesium', 'Aluminum', 'Silicon', 'Phosphorus', 'Sulfur', 'Chlorine', \\\n",
    " 'Argon', 'Potassium', 'Calcium', 'Scandium', 'Titanium', 'Vanadium', 'Chromium', 'Manganese', \\\n",
    " 'Iron', 'Cobalt', 'Nickel', 'Copper', 'Zinc', 'Gallium', 'Germanium', 'Arsenic', 'Selenium', \\\n",
    " 'Bromine', 'Krypton', 'Rubidium', 'Strontium', 'Yttrium', 'Zirconium']\n",
    "length = len(elements)\n",
    "for word in range(0,length,2):\n",
    "    print(word + 1, \"-\" ,elements[word])\n"
   ]
  },
  {
   "cell_type": "code",
   "execution_count": 67,
   "metadata": {},
   "outputs": [
    {
     "name": "stdout",
     "output_type": "stream",
     "text": [
      "numbers_1: [20, 21, 22, 23, 24, 25, 26, 27, 28, 29]\n",
      "numbers_2 [30, 32, 34, 36, 38, 40, 42, 44, 46, 48]\n",
      "Combined:  [20, 21, 22, 23, 24, 25, 26, 27, 28, 29, 30, 32, 34, 36, 38, 40, 42, 44, 46, 48]\n",
      "1st Row: ['Hydrogen', 'Helium']\n",
      "2nd Row: ['Lithium', 'Beryllium', 'Boron', 'Carbon', 'Nitrogen', 'Oxygen', 'Fluorine', 'Neon']\n",
      "Both: ['Hydrogen', 'Helium', 'Lithium', 'Beryllium', 'Boron', 'Carbon', 'Nitrogen', 'Oxygen', 'Fluorine', 'Neon']\n"
     ]
    }
   ],
   "source": [
    "# [ ] print the combined lists (numbers_1 & numbers_2) using \"+\" operator\n",
    "numbers_1 = [20, 21, 22, 23, 24, 25, 26, 27, 28, 29]\n",
    "\n",
    "# pythonic casting of a range into a list\n",
    "numbers_2 = list(range(30,50,2))\n",
    "\n",
    "print(\"numbers_1:\",numbers_1)\n",
    "print(\"numbers_2\",numbers_2)\n",
    "combined = numbers_1 + numbers_2\n",
    "print(\"Combined: \", combined )\n",
    "# [ ] print the combined element lists (first_row & second_row) using \".extend()\" method\n",
    "first_row = ['Hydrogen', 'Helium']\n",
    "second_row = ['Lithium', 'Beryllium', 'Boron', 'Carbon', 'Nitrogen', 'Oxygen', 'Fluorine', 'Neon']\n",
    "\n",
    "print(\"1st Row:\", first_row)\n",
    "print(\"2nd Row:\", second_row)\n",
    "first_row.extend(second_row)\n",
    "print(\"Both:\", first_row)"
   ]
  },
  {
   "cell_type": "code",
   "execution_count": 5,
   "metadata": {},
   "outputs": [
    {
     "name": "stdout",
     "output_type": "stream",
     "text": [
      "['Hydrogen', 'Helium', 'Lithium', 'Beryllium', 'Boron', 'Carbon', 'Nitrogen', 'Oxygen', 'Fluorine', 'Neon', 'Sodium', 'Magnesium', 'Aluminum', 'Silicon', 'Phosphorus', 'Sulfur', 'Chlorine', 'Argon']\n",
      "['Jack', 'and', 'Jill', 'went', 'up', 'the', 'hill', 'To', 'fetch', 'a', 'pail', 'of', 'water']\n"
     ]
    }
   ],
   "source": [
    "#The 1st three rows of the Period Table of Elements contain:\n",
    "['Hydrogen', 'Helium', 'Lithium', 'Beryllium', 'Boron', 'Carbon', 'Nitrogen', 'Oxygen', 'Fluorine', 'Neon', 'Sodium', 'Magnesium', 'Aluminum', 'Silicon', 'Phosphorus', 'Sulfur', 'Chlorine', 'Argon']\n",
    "\n",
    "#The row breakdown is\n",
    "#Row 1: Hydrogen, Helium\n",
    "#Row 2: Lithium, Beryllium, Boron, Carbon, Nitrogen, Oxygen, Fluorine, Neon\n",
    "#Row 3: Sodium, Magnesium, Aluminum, Silicon, Phosphorus, Sulfur, Chlorine, Argon\n",
    "# [ ] create the program: combined 3 element rows \n",
    "\n",
    "elem_1 = ['Hydrogen', 'Helium'] \n",
    "elem_2 = ['Lithium', 'Beryllium', 'Boron', 'Carbon', 'Nitrogen', 'Oxygen', 'Fluorine', 'Neon']\n",
    "elem_3 = ['Sodium', 'Magnesium', 'Aluminum', 'Silicon', 'Phosphorus', 'Sulfur', 'Chlorine', 'Argon']\n",
    "print(elem_1 + elem_2 + elem_3)\n",
    "# [ ] .extend() jack_jill with \"next_line\" string - print the result\n",
    "jack_jill = ['Jack', 'and', 'Jill', 'went', 'up', 'the', 'hill']\n",
    "next_line = ['To', 'fetch', 'a', 'pail', 'of', 'water']\n",
    "jack_jill.extend(next_line)\n",
    "print(jack_jill)"
   ]
  },
  {
   "cell_type": "code",
   "execution_count": 58,
   "metadata": {},
   "outputs": [
    {
     "name": "stdout",
     "output_type": "stream",
     "text": [
      "['Calcium', 'Potassium', 'Argon', 'Chlorine', 'Sulfur', 'Phosphorus', 'Silicon', 'Aluminum', 'Magnesium', 'Sodium', 'Neon', 'Fluorine', 'Oxygen', 'Nitrogen', 'Carbon', 'Boron', 'Beryllium', 'Lithium', 'Helium', 'Hydrogen']\n",
      "['Calendar', 'Annual', 'November', 'February', 'Wednesday', 'Tuesday']\n"
     ]
    }
   ],
   "source": [
    "# [ ] use .reverse() to print elements starting with \"Calcium\", \"Chlorine\",... in reverse order\n",
    "elements = ['Hydrogen', 'Helium', 'Lithium', 'Beryllium', 'Boron', 'Carbon', 'Nitrogen', 'Oxygen', 'Fluorine', \\\n",
    " 'Neon', 'Sodium', 'Magnesium', 'Aluminum', 'Silicon', 'Phosphorus', 'Sulfur', 'Chlorine', 'Argon', \\\n",
    " 'Potassium', 'Calcium']\n",
    "elements.reverse()\n",
    "print(elements)\n",
    "# [ ] reverse order of the list... Then print only words that are 8 characters or longer from the now reversed order\n",
    "spell_list = [\"Tuesday\", \"Wednesday\", \"February\", \"November\", \"Annual\", \"Calendar\", \"Solstice\"]\n",
    "words = reversed(spell_list)\n",
    "for w in words:\n",
    "    if len(w) >= 8:\n",
    "        print(list(words))\n",
    "\n"
   ]
  },
  {
   "cell_type": "code",
   "execution_count": 13,
   "metadata": {},
   "outputs": [
    {
     "name": "stdout",
     "output_type": "stream",
     "text": [
      "['Aluminum', 'Argon', 'Beryllium', 'Boron', 'Calcium', 'Carbon', 'Chlorine', 'Fluorine', 'Helium', 'Hydrogen', 'Lithium', 'Magnesium', 'Neon', 'Nitrogen', 'Oxygen', 'Phosphorus', 'Potassium', 'Silicon', 'Sodium', 'Sulfur']\n",
      "[1, 1, 1, 1, 2, 2, 2, 2, 2, 2, 2, 2, 3, 3, 3]\n"
     ]
    }
   ],
   "source": [
    "# [ ] sort the list element, so names are in alphabetical order and print elements\n",
    "elements = ['Hydrogen', 'Helium', 'Lithium', 'Beryllium', 'Boron', 'Carbon', 'Nitrogen', 'Oxygen', 'Fluorine', \\\n",
    " 'Neon', 'Sodium', 'Magnesium', 'Aluminum', 'Silicon', 'Phosphorus', 'Sulfur', 'Chlorine', 'Argon', \\\n",
    " 'Potassium', 'Calcium']\n",
    "# [ ] print the list, numbers, sorted and then below print the original numbers list \n",
    "numbers = [2,2,2,1,2,1,3,3,1,2,2,2,2,1,3]\n",
    "elements.sort()\n",
    "print(elements)\n",
    "x=sorted(numbers)\n",
    "print(x)"
   ]
  },
  {
   "cell_type": "code",
   "execution_count": 12,
   "metadata": {},
   "outputs": [
    {
     "name": "stdout",
     "output_type": "stream",
     "text": [
      "DID\n",
      "\n",
      "YOU\n",
      "\n",
      "KNOW\n",
      "\n",
      "THAT\n",
      "\n",
      "THERE\n",
      "\n",
      "ARE\n",
      "\n",
      "1.4\n",
      "\n",
      "BILLION\n",
      "\n",
      "STUDENTS\n",
      "\n",
      "IN\n",
      "\n",
      "THE\n",
      "\n",
      "WORLD?\n",
      "\n",
      "['Pyth', 'n uses spaces f', 'r indentati', 'n']\n",
      "The\n",
      "bright\n",
      "brain,\n",
      "has\n",
      "bran!\n"
     ]
    }
   ],
   "source": [
    "# [ ] split the string, daily_fact, into a list of word strings: fact_words\n",
    "# [ ] print each string in fact_words in upper case on it's own line\n",
    "daily_fact = \"Did you know that there are 1.4 billion students in the world?\"\n",
    "fact_words = daily_fact.split()\n",
    "for words in fact_words:\n",
    "    print(words.upper() +\"\\n\")\n",
    "# [ ] convert the string, code_tip, into a list made from splitting on the letter \"o\"\n",
    "code_tip = \"Python uses spaces for indentation\"\n",
    "print(code_tip.split(\"o\"))\n",
    "# [ ] split poem on \"b\" to create a list: poem_words\n",
    "# [ ] print poem_words by iterating the list\n",
    "poem = \"The bright brain, has bran!\"\n",
    "poem_words = poem.split()\n",
    "for words in poem_words:\n",
    "    print(words)"
   ]
  },
  {
   "cell_type": "code",
   "execution_count": 23,
   "metadata": {},
   "outputs": [
    {
     "name": "stdout",
     "output_type": "stream",
     "text": [
      "Chlorine, Florine, Bromine, Iodine\n",
      "Read\n",
      "Code\n",
      "Aloud\n",
      "Or\n",
      "Explain\n",
      "The\n",
      "Code\n",
      "Step\n",
      "By\n",
      "Step\n",
      "To\n",
      "A\n",
      "Peer\n"
     ]
    }
   ],
   "source": [
    "# [ ] print a comma separated string output from the list of Halogen elements using \".join()\"\n",
    "halogens = ['Chlorine', 'Florine', 'Bromine', 'Iodine']\n",
    "print(\", \".join(halogens))\n",
    "# [ ] split the sentence, code_tip, into a words list\n",
    "# [ ] print the joined words in the list with no spaces in-between\n",
    "# [ ] Bonus: capitalize each word in the list before .join()\n",
    "code_tip =\"Read code aloud or explain the code step by step to a peer\"\n",
    "code_words = code_tip.split()\n",
    "for words in code_words:\n",
    "    cap_code_words = words.capitalize()\n",
    "    print(\"\".join(cap_code_words))"
   ]
  },
  {
   "cell_type": "code",
   "execution_count": 48,
   "metadata": {},
   "outputs": [
    {
     "name": "stdout",
     "output_type": "stream",
     "text": [
      "['d']\n",
      "['e']\n",
      "['c']\n",
      "['e']\n",
      "['l']\n",
      "['e']\n",
      "['r']\n",
      "['a']\n",
      "['t']\n",
      "['i']\n",
      "['n']\n",
      "['g']\n",
      "What's the closest planet to the Sun? How deep do Dolphins swim? What time is it? Calcaneus, Talus, Cuboid, Navicular, Lateral Cuneiform, Intermediate Cuneiform, Medial Cuneiform, "
     ]
    }
   ],
   "source": [
    "# [ ] cast the long_word into individual letters list \n",
    "# [ ] print each letter on a line\n",
    "long_word = 'decelerating'\n",
    "for letter in long_word:\n",
    "    print(list(letter))\n",
    "# [ ] use use end= in print to output each string in questions with a \"?\" and on new lines\n",
    "questions = [\"What's the closest planet to the Sun\", \"How deep do Dolphins swim\", \"What time is it\"]\n",
    "for query in questions:\n",
    "    print(query, end=\"? \")\n",
    "# [ ] print each item in foot bones \n",
    "#    - capitalized, both words if two word name\n",
    "#    - separated by a comma and space\n",
    "#    - and keeping on a single print line\n",
    "foot_bones = [\"calcaneus\", \"talus\", \"cuboid\", \"navicular\", \"lateral cuneiform\", \n",
    "            \"intermediate cuneiform\", \"medial cuneiform\"]\n",
    "for words in foot_bones:\n",
    "    if \"\" in words:\n",
    "        words = words.title()   \n",
    "    print(words, end = \", \")"
   ]
  }
 ],
 "metadata": {
  "interpreter": {
   "hash": "2be5faf79681da6f2a61fdfdd5405d65d042280f7fba6178067603e3a2925119"
  },
  "kernelspec": {
   "display_name": "Python 3.10.4 64-bit",
   "language": "python",
   "name": "python3"
  },
  "language_info": {
   "codemirror_mode": {
    "name": "ipython",
    "version": 3
   },
   "file_extension": ".py",
   "mimetype": "text/x-python",
   "name": "python",
   "nbconvert_exporter": "python",
   "pygments_lexer": "ipython3",
   "version": "3.10.4"
  },
  "orig_nbformat": 4
 },
 "nbformat": 4,
 "nbformat_minor": 2
}
