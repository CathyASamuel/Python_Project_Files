{
 "cells": [
  {
   "cell_type": "code",
   "execution_count": 18,
   "metadata": {},
   "outputs": [
    {
     "name": "stdout",
     "output_type": "stream",
     "text": [
      "WHERESOEVER\n",
      "YOU\n",
      "WITH\n",
      "YOUR\n",
      "HEART\n"
     ]
    }
   ],
   "source": [
    "Create a program inputs a phrase (like a famous quotation) and prints all of the words that start with h-z\n",
    "quote = \"Wheresoever you go, go with all your heart \"\n",
    "word = ''\n",
    "for letter in quote:\n",
    "    if letter.isalpha():\n",
    "        word += letter\n",
    "    elif word.lower() >= 'h':\n",
    "        print(word.upper())\n",
    "        word = ''\n",
    "    else:\n",
    "        word = ''\n",
    "if word.lower() >= 'h':\n",
    "    print(word.upper())"
   ]
  }
 ],
 "metadata": {
  "interpreter": {
   "hash": "2be5faf79681da6f2a61fdfdd5405d65d042280f7fba6178067603e3a2925119"
  },
  "kernelspec": {
   "display_name": "Python 3.10.4 64-bit",
   "language": "python",
   "name": "python3"
  },
  "language_info": {
   "codemirror_mode": {
    "name": "ipython",
    "version": 3
   },
   "file_extension": ".py",
   "mimetype": "text/x-python",
   "name": "python",
   "nbconvert_exporter": "python",
   "pygments_lexer": "ipython3",
   "version": "3.10.4"
  },
  "orig_nbformat": 4
 },
 "nbformat": 4,
 "nbformat_minor": 2
}
