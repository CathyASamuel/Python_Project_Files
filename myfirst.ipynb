{
 "cells": [
  {
   "cell_type": "code",
   "execution_count": 1,
   "metadata": {},
   "outputs": [
    {
     "name": "stdout",
     "output_type": "stream",
     "text": [
      "wondeful\n"
     ]
    }
   ],
   "source": [
    "#here is th first attempt\n",
    "print ('wondeful')"
   ]
  },
  {
   "cell_type": "code",
   "execution_count": 2,
   "metadata": {},
   "outputs": [
    {
     "name": "stdout",
     "output_type": "stream",
     "text": [
      "Let's calculate\n"
     ]
    },
    {
     "data": {
      "text/plain": [
       "11"
      ]
     },
     "execution_count": 2,
     "metadata": {},
     "output_type": "execute_result"
    }
   ],
   "source": [
    "print(\"Let's calculate\")\n",
    "x = 2\n",
    "y = x + 4 + 5\n",
    "y\n"
   ]
  },
  {
   "cell_type": "code",
   "execution_count": 3,
   "metadata": {},
   "outputs": [
    {
     "name": "stdout",
     "output_type": "stream",
     "text": [
      "11\n",
      "11a\n"
     ]
    }
   ],
   "source": [
    "print(y)\n",
    "print(\"11a\")"
   ]
  },
  {
   "cell_type": "code",
   "execution_count": 4,
   "metadata": {},
   "outputs": [
    {
     "name": "stdout",
     "output_type": "stream",
     "text": [
      "I am a string\n",
      "I am a string\n",
      "Run this cell using Ctrl+Enter\n"
     ]
    }
   ],
   "source": [
    "# [ ] Review code and Run  \n",
    "# initialize the variable  \n",
    "current_msg = \"I am a string\"  \n",
    "\n",
    "# print literal string  \n",
    "print(\"I am a string\")  \n",
    "\n",
    "# print variable string  \n",
    "print(current_msg)  \n",
    "# [ ] Review code and Run  \n",
    "# assign a new string to the current_msg  \n",
    "current_msg = \"Run this cell using Ctrl+Enter\"  \n",
    "\n",
    "print(current_msg)  "
   ]
  },
  {
   "cell_type": "code",
   "execution_count": 5,
   "metadata": {},
   "outputs": [
    {
     "data": {
      "text/plain": [
       "str"
      ]
     },
     "execution_count": 5,
     "metadata": {},
     "output_type": "execute_result"
    }
   ],
   "source": [
    "# [ ] read and run the code\n",
    "type(\"Hello World!\")"
   ]
  },
  {
   "cell_type": "code",
   "execution_count": 6,
   "metadata": {},
   "outputs": [
    {
     "data": {
      "text/plain": [
       "12"
      ]
     },
     "execution_count": 6,
     "metadata": {},
     "output_type": "execute_result"
    }
   ],
   "source": [
    "# [ ] add 3 integer numbers\n",
    "3 + 4 + 5\n",
    "\n",
    "\n",
    "\n"
   ]
  },
  {
   "cell_type": "code",
   "execution_count": 7,
   "metadata": {},
   "outputs": [
    {
     "name": "stdout",
     "output_type": "stream",
     "text": [
      "My favorite food is\n"
     ]
    }
   ],
   "source": [
    "# [ ] perform string addition in the variable named new_msg (add a string to \"my favorite food is \")\n",
    "new_msg = \"My favorite food is\"\n",
    "print(new_msg)"
   ]
  },
  {
   "cell_type": "code",
   "execution_count": 11,
   "metadata": {},
   "outputs": [
    {
     "name": "stdout",
     "output_type": "stream",
     "text": [
      "My favorite food is Chicken Pelau\n"
     ]
    }
   ],
   "source": [
    "# [ ] create and print a new string variable, new_msg_2, that concatenates new_msg + a literal string\n",
    "new_msg2 = new_msg + \" Chicken Pelau\"\n",
    "print(new_msg2)"
   ]
  },
  {
   "cell_type": "code",
   "execution_count": 13,
   "metadata": {},
   "outputs": [
    {
     "name": "stdout",
     "output_type": "stream",
     "text": [
      "the street number of Central School is 123\n"
     ]
    }
   ],
   "source": [
    "# [ ] review and run the code - then fix any Errors\n",
    "school_num = '123'\n",
    "print(\"the street number of Central School is \" + school_num)"
   ]
  },
  {
   "cell_type": "code",
   "execution_count": 15,
   "metadata": {},
   "outputs": [
    {
     "name": "stdout",
     "output_type": "stream",
     "text": [
      "48\n"
     ]
    }
   ],
   "source": [
    "# [ ] review and run the code - then fix any Errors\n",
    "total_cost = 3 + 45\n",
    "print(total_cost)"
   ]
  },
  {
   "cell_type": "code",
   "execution_count": 16,
   "metadata": {},
   "outputs": [
    {
     "name": "stdout",
     "output_type": "stream",
     "text": [
      "<class 'float'>\n",
      "<class 'int'>\n",
      "6.3\n"
     ]
    }
   ],
   "source": [
    "# [ ] Read and run the code - write a hypothesis for what you observe adding float + int\n",
    "#  [ ] HYPOTHESIS: \n",
    "\n",
    "print(type(3.3))\n",
    "print(type(3))\n",
    "print(3.3 + 3)"
   ]
  },
  {
   "cell_type": "code",
   "execution_count": 18,
   "metadata": {},
   "outputs": [
    {
     "name": "stdout",
     "output_type": "stream",
     "text": [
      "Hi!\n",
      "I like the morning\n"
     ]
    }
   ],
   "source": [
    "# [ ] review and run the code for properly and improperly formatted print statement\n",
    "print(\"Hi!\")\n",
    "## improper format - non matching quotes\n",
    "print('I like the morning') "
   ]
  },
  {
   "cell_type": "code",
   "execution_count": 20,
   "metadata": {},
   "outputs": [
    {
     "name": "stdout",
     "output_type": "stream",
     "text": [
      "hi\n"
     ]
    }
   ],
   "source": [
    "# [ ] review and run the code \n",
    "print('hi')"
   ]
  },
  {
   "cell_type": "code",
   "execution_count": 24,
   "metadata": {},
   "outputs": [
    {
     "name": "stdout",
     "output_type": "stream",
     "text": [
      "3\n",
      " students are signed up for tutoring\n"
     ]
    }
   ],
   "source": [
    "# [ ] repair the TypeError\n",
    "total = 3\n",
    "print(total) \n",
    "print(\" students are signed up for tutoring\")"
   ]
  },
  {
   "cell_type": "code",
   "execution_count": 25,
   "metadata": {},
   "outputs": [
    {
     "name": "stdout",
     "output_type": "stream",
     "text": [
      "    *\n",
      "   * *\n",
      "  *****\n",
      " *     *\n",
      "*       *\n",
      "\n"
     ]
    }
   ],
   "source": [
    "# the letter 'A'\n",
    "print(\"    *\")\n",
    "print(\"   * *\")\n",
    "print(\"  *****\")\n",
    "print(\" *     *\")\n",
    "print(\"*       *\")\n",
    "print()"
   ]
  },
  {
   "cell_type": "code",
   "execution_count": 27,
   "metadata": {},
   "outputs": [
    {
     "name": "stdout",
     "output_type": "stream",
     "text": [
      "_         _ \n",
      " \\       /\n",
      "  \\ . . /\n",
      "     V \n"
     ]
    }
   ],
   "source": [
    "print('_         _ ')     \n",
    "print(' \\       /'  )   \n",
    "print('  \\ . . /'  ) \n",
    "print('     V ')  "
   ]
  },
  {
   "cell_type": "code",
   "execution_count": 28,
   "metadata": {},
   "outputs": [
    {
     "name": "stdout",
     "output_type": "stream",
     "text": [
      "************\n",
      "*\n",
      "*\n",
      "*******\n",
      "*\n",
      "*\n",
      "***************\n"
     ]
    }
   ],
   "source": [
    "# [ ] capital letter \"E\" character art\n",
    "print('************')\n",
    "print('*')\n",
    "print('*')\n",
    "print('*******')\n",
    "print('*')\n",
    "print('*')\n",
    "print('***************')"
   ]
  }
 ],
 "metadata": {
  "interpreter": {
   "hash": "2be5faf79681da6f2a61fdfdd5405d65d042280f7fba6178067603e3a2925119"
  },
  "kernelspec": {
   "display_name": "Python 3.10.4 64-bit",
   "language": "python",
   "name": "python3"
  },
  "language_info": {
   "codemirror_mode": {
    "name": "ipython",
    "version": 3
   },
   "file_extension": ".py",
   "mimetype": "text/x-python",
   "name": "python",
   "nbconvert_exporter": "python",
   "pygments_lexer": "ipython3",
   "version": "3.10.4"
  },
  "orig_nbformat": 4
 },
 "nbformat": 4,
 "nbformat_minor": 2
}
