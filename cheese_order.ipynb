{
 "cells": [
  {
   "cell_type": "code",
   "execution_count": 6,
   "metadata": {},
   "outputs": [
    {
     "name": "stdout",
     "output_type": "stream",
     "text": [
      "Order amount accepted for: 34 with costs $ 89.76\n"
     ]
    }
   ],
   "source": [
    "#set values for maximum and minimum order variables\n",
    "maximum_order = 1000\n",
    "minimum_order = 10\n",
    "#set value for price variable\n",
    "price = 2.64\n",
    "#get order_amount input and cast to a number\n",
    "order_amount = input(\"Enter the amount of cheese for order\")\n",
    "#check order_amount and give message checking against\n",
    "#over maximum\n",
    "if int(order_amount) > maximum_order:\n",
    "    print(\"Order amount is too great by:\", int(order_amount)-maximum_order)\n",
    "#under minimum\n",
    "elif int(order_amount) < minimum_order:\n",
    "    print(\"Order amount is under that expected by:\", minimum_order-int(order_amount))\n",
    "else:\n",
    "#within maximum and minimum give message with calculated price\n",
    "    print(\"Order amount accepted for:\", order_amount, \"with costs $\", int(order_amount)*price)"
   ]
  }
 ],
 "metadata": {
  "interpreter": {
   "hash": "35c1ecb0f046c6524e5e1a9385dff1bcc3872e24fdc6f1de04dc6fc3393ca3ab"
  },
  "kernelspec": {
   "display_name": "Python 3.10.4 64-bit (windows store)",
   "language": "python",
   "name": "python3"
  },
  "language_info": {
   "codemirror_mode": {
    "name": "ipython",
    "version": 3
   },
   "file_extension": ".py",
   "mimetype": "text/x-python",
   "name": "python",
   "nbconvert_exporter": "python",
   "pygments_lexer": "ipython3",
   "version": "3.10.4"
  },
  "orig_nbformat": 4
 },
 "nbformat": 4,
 "nbformat_minor": 2
}
