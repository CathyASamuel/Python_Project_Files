{
 "cells": [
  {
   "cell_type": "code",
   "execution_count": 2,
   "metadata": {},
   "outputs": [
    {
     "name": "stdout",
     "output_type": "stream",
     "text": [
      "u\n",
      "J\n",
      "J r\n",
      "J\n"
     ]
    }
   ],
   "source": [
    "# [ ] access and print the second character from planet_name: \"u\"\n",
    "planet_name = \"Jupiter\"\n",
    "print(planet_name[1])\n",
    "# [ ] access and print the first character from planet_name: \"J\"\n",
    "planet_name = \"Jupiter\"\n",
    "print(planet_name[0])\n",
    "# [ ] access and print the first and last characters from planet_name\n",
    "planet_name = \"Jupiter\"\n",
    "print(planet_name[0], planet_name[-1])\n",
    "# [ ] using a negative index access and print the first character from planet_name: \"J\"\n",
    "planet_name = \"Jupiter\"\n",
    "print(planet_name[-7])"
   ]
  },
  {
   "cell_type": "code",
   "execution_count": 11,
   "metadata": {},
   "outputs": [
    {
     "name": "stdout",
     "output_type": "stream",
     "text": [
      "Nep tune\n",
      "Python\n",
      "enutpeN\n"
     ]
    }
   ],
   "source": [
    "# [ ] print planet_name sliced into the first 3 characters and remaining characters\n",
    "planet_name = \"Neptune\"\n",
    "print(planet_name[:3:1],planet_name[3:])\n",
    "# [ ] print 1st char and then every 3rd char of wise_words\n",
    "# use string slice with a step\n",
    "wise_words = 'Play it who opens'\n",
    "print(wise_words[0::3])\n",
    "# [ ] print planet_name in reverse\n",
    "print(planet_name[::-1])"
   ]
  },
  {
   "cell_type": "code",
   "execution_count": 21,
   "metadata": {},
   "outputs": [
    {
     "name": "stdout",
     "output_type": "stream",
     "text": [
      "f\n",
      "u\n",
      "f\n",
      "u\n",
      "H\n",
      "i\n",
      "r\n",
      "o\n",
      "t\n",
      "o\n",
      "ioo\n",
      "G_o_o_d_ _c_o_d_e_ _i_s_ _c_o_m_m_e_n_t_e_d_ _c_o_d_e_\n"
     ]
    }
   ],
   "source": [
    "# [ ] Get user input for 1 fav_food\n",
    "fav_food = input(\"What is your favoorite food?\")\n",
    "# [ ] iterate through letters in fav_food \n",
    "for letter in fav_food:\n",
    "#    - print each letter on a new line\n",
    "    print(letter)\n",
    "# [ ] iterate work_tip string concatenate each letter to variable: new_string \n",
    "new_string = \"\"\n",
    "# [ ] concatenate the letter or a \"-\" instead of a space \" \"\n",
    "# tip: concatenate string example: word = word + \"a\"\n",
    "work_tip = \"Good code is commented code\"\n",
    "for letter in work_tip:\n",
    "    new_string += letter + \"_\"\n",
    "# [ ] Print the first 4 letters of name on new line\n",
    "name = \"Hiroto\"\n",
    "for letter in name:\n",
    "    print(letter)\n",
    "# [ ] Print every other letter from 2nd to last letter of name \n",
    "name = \"Hiroto\"\n",
    "print(name[1::2])\n",
    "print(new_string)"
   ]
  },
  {
   "cell_type": "code",
   "execution_count": 8,
   "metadata": {},
   "outputs": [
    {
     "name": "stdout",
     "output_type": "stream",
     "text": [
      "enirehtac\n",
      "?nir?h??c\n"
     ]
    }
   ],
   "source": [
    "# [ ] Create Mystery Name\n",
    "#get user input for first_name\n",
    "first_name = input(\"Enter First name\").lower()\n",
    "#create an empty string variable: new_name\n",
    "new_name = \"\"\n",
    "replaced_new_name = \"\"\n",
    "#iterate through letters in first_name Backwards\n",
    "#add each letter to new_name as you iterate\n",
    "for letter in reversed(first_name): \n",
    "    new_name += letter\n",
    "#Replace the letter if \"e\", \"t\" or \"a\" with \"?\" (hint: if, elif, elif, else)\n",
    "    for letter in new_name:\n",
    "        if letter == \"e\" or letter == \"t\" or letter == \"a\":\n",
    "            new_letter= \"?\"\n",
    "        else:\n",
    "            new_letter = letter    \n",
    "    replaced_new_name += new_letter\n",
    "\n",
    "print(new_name)\n",
    "print(replaced_new_name)"
   ]
  },
  {
   "cell_type": "code",
   "execution_count": 13,
   "metadata": {},
   "outputs": [
    {
     "name": "stdout",
     "output_type": "stream",
     "text": [
      "37\n",
      "18\n",
      "5\n"
     ]
    }
   ],
   "source": [
    "# [ ] find and display the length of the string: topic\n",
    "topic = \".len() returns the length of a string\"\n",
    "print(len(topic))\n",
    "# [ ] use len() to find and display the mid_pt (middle) index (+/- 1) of the string: topic\n",
    "# note: index values are whole numbers\n",
    "mid_pt = ((len(topic))//2)\n",
    "print(mid_pt)\n",
    "topic = \"len() can take a sequence, like a string, as an argument\"\n",
    "# [ ] print index where first instance of the word  \"code\" starts using .find()\n",
    "work_tip = \"Good code is commented code\"\n",
    "index = work_tip.find(\"code\")\n",
    "print(index)\n",
    "# [ ] search for \"code\" in work_tip using .find() \n",
    "# [ ] search substring with substring index start= 13,end = last char \n",
    "# [ ] save result in variable: code_index\n",
    "# [ ] display index of where \"code\" is found, or print \"not found\" if code_index == -1\n",
    "work_tip = \"Good code is commented code\""
   ]
  },
  {
   "cell_type": "code",
   "execution_count": 10,
   "metadata": {},
   "outputs": [
    {
     "name": "stdout",
     "output_type": "stream",
     "text": [
      "The number of w's: 0\n",
      "The number of o's: 5\n",
      "The use of the word 'code': 2\n",
      "The number of i's: 1\n",
      "Item i is found at index [11, 13, 22, 24, 29, 47]\n",
      "Item i is found at index [11, 13, 22, 24, 29, 47]\n",
      "code_tip: code a conditional decision like you would say it\n"
     ]
    }
   ],
   "source": [
    "# [ ] find and report (print) number of w's, o's + use of word \"code\"\n",
    "work_tip = \"Good code is commented code\"\n",
    "print(\"The number of w's:\",work_tip.count(\"w\"))\n",
    "print(\"The number of o's:\",work_tip.count(\"o\"))\n",
    "print(\"The use of the word 'code':\",work_tip.count(\"code\"))\n",
    "# [ ]  count times letter \"i\" appears in code_tip string\n",
    "print(\"The number of i's:\",work_tip.count(\"i\"))\n",
    "# [ ] find and display the index of all the letter i's in code_tip\n",
    "code_tip = \"code a conditional decision like you would say it\"\n",
    "item = \"i\"\n",
    "indexes = [i for i, j in enumerate(code_tip) if j == item]\n",
    "print(f\"Item {item} is found at index {indexes}\")\n",
    "indexes = [i for i in range(len(code_tip)) if code_tip[i] == item]\n",
    "print(f\"Item {item} is found at index {indexes}\")\n",
    "# Remember: if .find(\"i\") has No Match, -1 is returned\n",
    "print (\"code_tip:\" , code_tip)\n"
   ]
  },
  {
   "cell_type": "code",
   "execution_count": 18,
   "metadata": {},
   "outputs": [
    {
     "name": "stdout",
     "output_type": "stream",
     "text": [
      "WHERESOEVER\n",
      "YOU\n",
      "WITH\n",
      "YOUR\n",
      "HEART\n"
     ]
    }
   ],
   "source": [
    "quote = \"Wheresoever you go, go with all your heart \"\n",
    "word = ''\n",
    "for letter in quote:\n",
    "    if letter.isalpha():\n",
    "        word += letter\n",
    "    elif word.lower() >= 'h':\n",
    "        print(word.upper())\n",
    "        word = ''\n",
    "    else:\n",
    "        word = ''\n",
    "if word.lower() >= 'h':\n",
    "    print(word.upper())"
   ]
  }
 ],
 "metadata": {
  "interpreter": {
   "hash": "2be5faf79681da6f2a61fdfdd5405d65d042280f7fba6178067603e3a2925119"
  },
  "kernelspec": {
   "display_name": "Python 3.10.4 64-bit",
   "language": "python",
   "name": "python3"
  },
  "language_info": {
   "codemirror_mode": {
    "name": "ipython",
    "version": 3
   },
   "file_extension": ".py",
   "mimetype": "text/x-python",
   "name": "python",
   "nbconvert_exporter": "python",
   "pygments_lexer": "ipython3",
   "version": "3.10.4"
  },
  "orig_nbformat": 4
 },
 "nbformat": 4,
 "nbformat_minor": 2
}
