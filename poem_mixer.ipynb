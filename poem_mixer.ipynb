{
 "cells": [
  {
   "cell_type": "code",
   "execution_count": 13,
   "metadata": {},
   "outputs": [
    {
     "name": "stdout",
     "output_type": "stream",
     "text": [
      "over anf the jumped cat the fiddle cow the\n"
     ]
    }
   ],
   "source": [
    "\n",
    "def word_mixer(string):\n",
    "    #sort the original list\n",
    "    string.sort()\n",
    "    newString= []\n",
    "    x=len(string)\n",
    "    while x > 5:\n",
    "        #pop the word 5th from the end of the list and append to the new list\n",
    "        firstPOp= string.pop(-5)\n",
    "        newString.append(firstPOp)\n",
    "        #pop the first word in the list and append to the new list\n",
    "        secondPop= string.pop(0)\n",
    "        newString.append(secondPop)\n",
    "        #pop the last word in the list and append to the new list\n",
    "        thirdPop= string.pop(-1)\n",
    "        newString.append(thirdPop)\n",
    "\n",
    "        if len(string)==5:\n",
    "            break\n",
    "    updated_newString=\" \".join(newString)\n",
    "    return updated_newString\n",
    "\n",
    "\n",
    "#if __name__ == '__main__':\n",
    "#    funct()\n",
    "\n",
    "\n",
    "#string_input=\"\"\n",
    "#get string input, input like a poem, verse or saying\n",
    "string_input=input(\"Enter a saying, verse or poem: \")\n",
    "#split the string into a list of individual words\n",
    "words= string_input.split()\n",
    "#determine the length of the list\n",
    "words_length= len(words)\n",
    "for x in range(words_length):\n",
    "        if len(words[x])<=3:\n",
    "            #if a word is short (3 letters or less) make the word in the list lowercase\n",
    "            lower_word=words[x].lower()\n",
    "            words[x]=lower_word\n",
    "        elif len(words[x])>=7:\n",
    "            #if a word is long (7 letters or more) make the word in the list uppercase\n",
    "            upper_word=words[x].upper()\n",
    "            words[x]=upper_word\n",
    "#call the word_mixer function with the modified list\n",
    "result=word_mixer(words)\n",
    "#print the return value from the word_mixer function\n",
    "print(result)"
   ]
  }
 ],
 "metadata": {
  "interpreter": {
   "hash": "d9a4ba7a39ad5692da286452aea182a2f639774b342ad6371c4f013f8b98072d"
  },
  "kernelspec": {
   "display_name": "Python 3.10.4 64-bit",
   "language": "python",
   "name": "python3"
  },
  "language_info": {
   "codemirror_mode": {
    "name": "ipython",
    "version": 3
   },
   "file_extension": ".py",
   "mimetype": "text/x-python",
   "name": "python",
   "nbconvert_exporter": "python",
   "pygments_lexer": "ipython3",
   "version": "3.10.4"
  },
  "orig_nbformat": 4
 },
 "nbformat": 4,
 "nbformat_minor": 2
}
