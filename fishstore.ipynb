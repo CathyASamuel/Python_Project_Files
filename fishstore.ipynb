{
 "cells": [
  {
   "cell_type": "code",
   "execution_count": 9,
   "metadata": {},
   "outputs": [
    {
     "name": "stdout",
     "output_type": "stream",
     "text": [
      "The cost of bonita is $ 10\n"
     ]
    }
   ],
   "source": [
    "#create and test fishstore()\n",
    "def fishstore(fish, price):\n",
    "    #fishstore returns a string in sentence form\n",
    "    return (\"The cost of\",fish, \"is $\", str(price))\n",
    "\n",
    "\n",
    "#gather input for fish_entry and price_entry to use in calling fishstore()\n",
    "fish_entry = input(\"Name of fish\")\n",
    "price_entry = input(\"Enter the price per pound for the fish\")\n",
    "get_result = fishstore(fish_entry, price_entry)\n",
    "new_get_result = \" \".join(get_result)\n",
    "#print the return value of fishstore()\n",
    "print(new_get_result )"
   ]
  }
 ],
 "metadata": {
  "interpreter": {
   "hash": "35c1ecb0f046c6524e5e1a9385dff1bcc3872e24fdc6f1de04dc6fc3393ca3ab"
  },
  "kernelspec": {
   "display_name": "Python 3.10.4 64-bit (windows store)",
   "language": "python",
   "name": "python3"
  },
  "language_info": {
   "codemirror_mode": {
    "name": "ipython",
    "version": 3
   },
   "file_extension": ".py",
   "mimetype": "text/x-python",
   "name": "python",
   "nbconvert_exporter": "python",
   "pygments_lexer": "ipython3",
   "version": "3.10.4"
  },
  "orig_nbformat": 4
 },
 "nbformat": 4,
 "nbformat_minor": 2
}
