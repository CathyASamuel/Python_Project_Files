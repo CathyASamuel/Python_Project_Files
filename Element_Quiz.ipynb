{
 "cells": [
  {
   "cell_type": "code",
   "execution_count": 20,
   "metadata": {},
   "outputs": [
    {
     "name": "stdout",
     "output_type": "stream",
     "text": [
      "gold - wrong\n",
      "silver - wrong\n",
      "oxygen - correct\n",
      "hydrogen - correct\n",
      "argon - correct\n",
      "60 % ***CORRECT***\n",
      "40 % ***INCORRECT***\n"
     ]
    }
   ],
   "source": [
    "#open the file with the first 20 elements\n",
    "elements1_20_file = open('elements1_20.txt','r')\n",
    "#read one line at a time to get element names, remove any whitespace (spaces, newlines) and save each element name, as lowercase, into a list\n",
    "elements1_20_list = elements1_20_file.readlines()\n",
    "new_elements1_20_list = []\n",
    "for elements in elements1_20_list:\n",
    "    new_elements1_20_list.append(elements.strip().lower())\n",
    "\n",
    "#The function accepts no arguments and returns a list of 5 input strings (element names)\n",
    "def get_names():\n",
    "    #define a list to hold the input\n",
    "    get_input_elements = []\n",
    "    #collect input of a element name\n",
    "    for counter in range(0, 5):\n",
    "        input_elements = input(\"You are to enter the name of one of the first 20 elements in the Periodic Table\" )\n",
    "        if input_elements in get_input_elements:\n",
    "            print(input_elements,\"already entered\")\n",
    "        elif input_elements == \"\":\n",
    "            print(\"you must enter an element\")\n",
    "        else:\n",
    "            get_input_elements.append(input_elements)\n",
    "    return(get_input_elements)\n",
    "\n",
    "user_elements_list = get_names()\n",
    "\n",
    "#compare each response to the list of 20 elements\n",
    "#any response that is in the list of 20 elements is correct and should be added to a list of correct responses\n",
    "#if not in the list of 20 elements then add to a list of incorrect responses\n",
    "correct_responses = []\n",
    "incorrect_responses = []\n",
    "#Iterate through 5 responses\n",
    "for names in user_elements_list:\n",
    "    if names in new_elements1_20_list:\n",
    "        print(names, \"- correct\")\n",
    "        correct_responses.append(names)\n",
    "    else:\n",
    "        print(names,\"- wrong\")\n",
    "        incorrect_responses.append(names)\n",
    "    \n",
    "\n",
    "\n",
    "#find the the number of items in the correct responses and divide by 5, this will result in answers like 1.0, .8, .6,...\n",
    "#to get the % multiple the calculated answer above by 100, this will result in answers like 100, 80, 60...\n",
    "#hint: instead of dividing by 5 and then multiplying by 100, the number of correct responses can be multiplied by 20\n",
    "\n",
    "number_correct = (len(correct_responses))*20\n",
    "print(number_correct,\"% ***CORRECT***\")\n",
    "number_incorrect = (len(incorrect_responses))*20\n",
    "print (number_incorrect,\"% ***INCORRECT***\")"
   ]
  }
 ],
 "metadata": {
  "interpreter": {
   "hash": "35c1ecb0f046c6524e5e1a9385dff1bcc3872e24fdc6f1de04dc6fc3393ca3ab"
  },
  "kernelspec": {
   "display_name": "Python 3.10.4 64-bit (windows store)",
   "language": "python",
   "name": "python3"
  },
  "language_info": {
   "codemirror_mode": {
    "name": "ipython",
    "version": 3
   },
   "file_extension": ".py",
   "mimetype": "text/x-python",
   "name": "python",
   "nbconvert_exporter": "python",
   "pygments_lexer": "ipython3",
   "version": "3.10.4"
  },
  "orig_nbformat": 4
 },
 "nbformat": 4,
 "nbformat_minor": 2
}
