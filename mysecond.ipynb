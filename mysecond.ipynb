{
 "cells": [
  {
   "cell_type": "code",
   "execution_count": 2,
   "metadata": {},
   "outputs": [
    {
     "name": "stdout",
     "output_type": "stream",
     "text": [
      "Enter name: \n",
      "Catherine Anne Samuel\n"
     ]
    }
   ],
   "source": [
    "# [ ] get input for the variable student_name\n",
    "# [ ] determine the type of student_name\n",
    "print(\"Enter name: \")\n",
    "my_name = input()\n",
    "print(my_name)"
   ]
  },
  {
   "cell_type": "code",
   "execution_count": 5,
   "metadata": {},
   "outputs": [
    {
     "name": "stdout",
     "output_type": "stream",
     "text": [
      "enter a name or number\n",
      "<class 'str'>\n"
     ]
    }
   ],
   "source": [
    "# [ ] run cell several times entering a name a int number and a float number after adding code below\n",
    "print(\"enter a name or number\")\n",
    "test_input = input()\n",
    "# [ ] insert code below to check the type of test_input\n",
    "print(type(test_input))"
   ]
  },
  {
   "cell_type": "code",
   "execution_count": 7,
   "metadata": {},
   "outputs": [
    {
     "name": "stdout",
     "output_type": "stream",
     "text": [
      "St George\n"
     ]
    }
   ],
   "source": [
    "# [ ] get user input for a city name in the variable named city\n",
    "# [ ] print the city name\n",
    "city = input(\"Kindly enter the name of your city: \")\n",
    "print(city)"
   ]
  },
  {
   "cell_type": "code",
   "execution_count": 10,
   "metadata": {},
   "outputs": [
    {
     "name": "stdout",
     "output_type": "stream",
     "text": [
      "Your information indicates that Cathereine Anne Samuel whose age is 54 responded  No to getting emails\n"
     ]
    }
   ],
   "source": [
    "# [ ]create variables to store input: name, age, get_mail with prompts\n",
    "# for name, age and yes/no to being on an email list\n",
    "# [ ] print a description + variable value for each variable\n",
    "my_name = input(\"What is your name? \")\n",
    "my_age = input(\"What is your age? \")\n",
    "get_mail = input(\"Do you get mail?(Yes/No) \" )\n",
    "print(\"Your information indicates that \"  + my_name + \" whose age is \" + my_age + \" responded  \" + get_mail + \" to getting emails\")\n"
   ]
  },
  {
   "cell_type": "code",
   "execution_count": 11,
   "metadata": {},
   "outputs": [
    {
     "name": "stdout",
     "output_type": "stream",
     "text": [
      "Hello Cathereine Anne Samuel !\n"
     ]
    }
   ],
   "source": [
    "# [ ] print 3 strings on the same line using commas inside the print() function \n",
    "print(\"Hello\", my_name , \"!\")"
   ]
  },
  {
   "cell_type": "code",
   "execution_count": 12,
   "metadata": {},
   "outputs": [
    {
     "name": "stdout",
     "output_type": "stream",
     "text": [
      "I am 54 not 100 my name is Cathereine Anne Samuel\n"
     ]
    }
   ],
   "source": [
    "# [ ] use a print() function with comma separation to combine 2 numbers and 2 strings\n",
    "print(\"I am\", my_age, \"not\", 100,\"my name is\" ,my_name)\n",
    "\n",
    "\n"
   ]
  },
  {
   "cell_type": "code",
   "execution_count": null,
   "metadata": {},
   "outputs": [],
   "source": []
  },
  {
   "cell_type": "code",
   "execution_count": 17,
   "metadata": {},
   "outputs": [
    {
     "name": "stdout",
     "output_type": "stream",
     "text": [
      "I live at #123 on Mt Moritz Main Road\n"
     ]
    }
   ],
   "source": [
    "# [ ] get user input for a street name in the variable, street\n",
    "# [ ] get user input for a street number in the variable, st_number\n",
    "# [ ] display a message about the street and st_number\n",
    "street = input(\"What is the name of your street? \")\n",
    "st_number = input(\"What is the number? \")\n",
    "print(\"I live at #\"+st_number, \"on\", street)\n",
    "\n"
   ]
  },
  {
   "cell_type": "code",
   "execution_count": 21,
   "metadata": {},
   "outputs": [
    {
     "name": "stdout",
     "output_type": "stream",
     "text": [
      "Jude, You are reminded that  20 persons are expected at 10 am,to arive as early as 8 am\n"
     ]
    }
   ],
   "source": [
    "# [ ] get input for variables: owner, num_people, training_time  - use descriptive prompt text\n",
    "owner = input(\"Who is the owner?\")\n",
    "num_people = input(\"How many people are expected?\")\n",
    "training_time = input(\"What is the time for training?\")\n",
    "# [ ] create a integer variable min_early and \"hard code\" the integer value (e.g. - 5, 10 or 15)\n",
    "min_early = 8\n",
    "# [ ] print reminder text using all variables & add additional strings -  use comma separated print formatting\n",
    "print(owner+\", You are reminded that \", num_people, \"persons are expected at\", training_time, \"am,to arive as early as\", min_early,\"am\")"
   ]
  },
  {
   "cell_type": "code",
   "execution_count": 22,
   "metadata": {},
   "outputs": [
    {
     "name": "stdout",
     "output_type": "stream",
     "text": [
      "Where's the homework?\n",
      "\"Education is what remains after one has forgotten what one has learned in school\"- Albert Einstein\n"
     ]
    }
   ],
   "source": [
    "# [ ] using a print statement, display the text: Where's the homework?\n",
    "# [ ] output with double quotes: \"Education is what remains after one has forgotten what one has learned in school\" - Albert Einstein\n",
    "print(\"Where's the homework?\")\n",
    "print('\"Education is what remains after one has forgotten what one has learned in school\"- Albert Einstein')"
   ]
  },
  {
   "cell_type": "code",
   "execution_count": 26,
   "metadata": {},
   "outputs": [
    {
     "name": "stdout",
     "output_type": "stream",
     "text": [
      "True\n",
      "False\n",
      "False\n"
     ]
    }
   ],
   "source": [
    "# [ ] Use .isalpha() on the string \"alphabetical\"\n",
    "# [ ] Use .isalpha() on the string: \"Are spaces and punctuation Alphabetical?\"\n",
    "# [ ] initialize variable alpha_test with input\n",
    "# [ ] use .isalpha() on string variable alpha_test\n",
    "print(\"alphabetical\".isalpha())\n",
    "print(\"Are spaces and punctuation Alphabetical?\".isalpha())\n",
    "alpha_test = input(\"This is to test this alpha function\")\n",
    "print(alpha_test.isalpha())\n"
   ]
  },
  {
   "cell_type": "code",
   "execution_count": 28,
   "metadata": {},
   "outputs": [
    {
     "name": "stdout",
     "output_type": "stream",
     "text": [
      "My favorite food is OILDOWN\n",
      "I do have an intense liking for oildown\n",
      "Most of my friends do no like oILdOWN\n",
      "Do you share my liking for  Oildown\n",
      "FOREST GREEN forest green fOREST gREEN Forest green\n"
     ]
    }
   ],
   "source": [
    "# [ ] get input for a variable, fav_food, that describes a favorite food\n",
    "# [ ] display fav_food as ALL CAPS, used in a sentence\n",
    "# [ ] display fav_food as all lower case, used in a sentence\n",
    "# [] display fav_food with swapped case, used in a sentence\n",
    "# [] display fav_food with capitalization, used in a sentence\n",
    "fav_color = \"Forest Green\"\n",
    "# [] display the fav_color variable as upper, lower, swapcase, and capitalize formatting in a single print() statement\n",
    "fav_food = input(\"What is your favorite food? \" )\n",
    "print(\"My favorite food is\",fav_food.upper())\n",
    "print(\"I do have an intense liking for\",fav_food.lower())\n",
    "print(\"Most of my friends do no like\",fav_food.swapcase())\n",
    "print(\"Do you share my liking for \",fav_food.capitalize())\n",
    "print(fav_color.upper(), fav_color.lower(), fav_color.swapcase(), fav_color.capitalize())"
   ]
  },
  {
   "cell_type": "code",
   "execution_count": 32,
   "metadata": {},
   "outputs": [
    {
     "name": "stdout",
     "output_type": "stream",
     "text": [
      "blue\n"
     ]
    }
   ],
   "source": [
    "# [] input variable fav_color as upper\n",
    "# [] print fav_color\n",
    "fav_color = input(\"What is your favorite color? \").upper()\n",
    "print(fav_color.lower())"
   ]
  },
  {
   "cell_type": "code",
   "execution_count": 34,
   "metadata": {},
   "outputs": [
    {
     "name": "stdout",
     "output_type": "stream",
     "text": [
      "False\n",
      "False\n",
      "True\n"
     ]
    }
   ],
   "source": [
    "# [] print 3 tests, with description text, testing the menu variable for 'pizza', 'soup' and 'dessert'\n",
    "menu = \"salad, pasta, sandwich, pizza, drinks, dessert\"\n",
    "print(\"pizza \" in menu)\n",
    "print(\"soup\" in menu)\n",
    "print(\"dessert\" in menu)\n"
   ]
  },
  {
   "cell_type": "code",
   "execution_count": 35,
   "metadata": {},
   "outputs": [
    {
     "name": "stdout",
     "output_type": "stream",
     "text": [
      "False\n"
     ]
    }
   ],
   "source": [
    "#[ ] Create a program where a user can check if an item is on the menu\n",
    "#store the user response in a variable menu_ask\n",
    "#use the menu from above and add some additional items\n",
    "menu_ask = input(\"What item on the menu, do you seek?\")\n",
    "print(menu_ask in menu)"
   ]
  },
  {
   "cell_type": "code",
   "execution_count": 42,
   "metadata": {},
   "outputs": [
    {
     "name": "stdout",
     "output_type": "stream",
     "text": [
      "salad, pasta, sandwich, pizza, drinks, dessert\n",
      "salad, pasta, sandwich, pizza, drinks, dessert, fish\n"
     ]
    }
   ],
   "source": [
    "#[ ] Challenge: Add to the menu\n",
    "#print the current menu\n",
    "#get user input for add_item variable\n",
    "#new_menu use string addition to add add_item to menu\n",
    "#print the new_menu\n",
    "print(menu)\n",
    "add_to_menu = input(\"Here is the menu, please add another item\")\n",
    "new_menu = menu +\", \" +add_to_menu\n",
    "print (new_menu)"
   ]
  },
  {
   "cell_type": "code",
   "execution_count": 46,
   "metadata": {},
   "outputs": [
    {
     "name": "stdout",
     "output_type": "stream",
     "text": [
      "\"Red\" in paint colors =  True\n"
     ]
    }
   ],
   "source": [
    "# [ ] fix the error\n",
    "paint_colors = \"red, blue, green, black, orange, pink\"\n",
    "print('\"Red\" in paint colors = ','red' in paint_colors)\n"
   ]
  },
  {
   "cell_type": "code",
   "execution_count": 28,
   "metadata": {},
   "outputs": [
    {
     "name": "stdout",
     "output_type": "stream",
     "text": [
      "************\n",
      "*\n",
      "*\n",
      "*******\n",
      "*\n",
      "*\n",
      "***************\n"
     ]
    }
   ],
   "source": [
    "# [ ] capital letter \"E\" character art\n",
    "print('************')\n",
    "print('*')\n",
    "print('*')\n",
    "print('*******')\n",
    "print('*')\n",
    "print('*')\n",
    "print('***************')"
   ]
  }
 ],
 "metadata": {
  "interpreter": {
   "hash": "2be5faf79681da6f2a61fdfdd5405d65d042280f7fba6178067603e3a2925119"
  },
  "kernelspec": {
   "display_name": "Python 3.10.4 64-bit",
   "language": "python",
   "name": "python3"
  },
  "language_info": {
   "codemirror_mode": {
    "name": "ipython",
    "version": 3
   },
   "file_extension": ".py",
   "mimetype": "text/x-python",
   "name": "python",
   "nbconvert_exporter": "python",
   "pygments_lexer": "ipython3",
   "version": "3.10.4"
  },
  "orig_nbformat": 4
 },
 "nbformat": 4,
 "nbformat_minor": 2
}
