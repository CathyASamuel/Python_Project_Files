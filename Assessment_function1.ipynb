{
 "cells": [
  {
   "cell_type": "code",
   "execution_count": 6,
   "metadata": {},
   "outputs": [
    {
     "name": "stdout",
     "output_type": "stream",
     "text": [
      "hey diddle diddle \n",
      " the cat and the fiddle\n",
      "Another Weekend \n",
      "The Summer Garden\n",
      "How Many Ways Do I Love Thee Let Me Count Them\n"
     ]
    }
   ],
   "source": [
    "# [ ] define and call a function short_rhyme() that prints a 2 line rhyme\n",
    "def short_rhyme():\n",
    "    print(\"hey diddle diddle\",\"\\n\", \"the cat and the fiddle\")\n",
    "    \n",
    "short_rhyme()\n",
    "\n",
    "# [ ] define (def) a simple function: title_it() and call the function\n",
    "# - has a string parameter: msg\n",
    "# - prints msg in Title Case\n",
    "def title_it(msg):\n",
    "    print(msg.title() )\n",
    "# call function with a string \n",
    "title_it(\"Another weekend \")\n",
    "\n",
    "# [ ] get user input with prompt \"what is the title?\" \n",
    "# [ ] call title_it() using input for the string argument\n",
    "title_it = input(\"what is the title: \")\n",
    "print(title_it.title())\n",
    "\n",
    "# [ ] define title_it_rtn() which returns a titled string instead of printing\n",
    "# [ ] call title_it_rtn() using input for the string argument and print the result\n",
    "#def title_it_rtn (book):\n",
    "#    return(\"Home Alone\")\n",
    "def title_it_rtn(string):\n",
    "    return(string.title())\n",
    "\n",
    "title_input= input(\"Enter any string\")\n",
    "title_result = title_it_rtn(title_input)\n",
    "print(title_result)\n",
    "    "
   ]
  },
  {
   "cell_type": "code",
   "execution_count": 11,
   "metadata": {},
   "outputs": [
    {
     "name": "stdout",
     "output_type": "stream",
     "text": [
      "The cost of The Summer Garden is $ 45\n"
     ]
    }
   ],
   "source": [
    "#create and test bookstore()\n",
    "#create and test fishstore()\n",
    "def bookstore(book, price):\n",
    "    title_book = title_it_rtn(book)\n",
    "    #bookstore returns a string in sentence form\n",
    "    return (\"The cost of\",title_book, \"is $\", str(price))\n",
    "\n",
    "    \n",
    "#gather input for book_entry and price_entry to use in calling fishstore()\n",
    "book_entry = input(\"Name of book\")\n",
    "price_entry = input(\"Enter the price for the book\")\n",
    "get_result = bookstore(book_entry, price_entry)\n",
    "new_get_result = \" \".join(get_result)\n",
    "#print the return value of bookstore()\n",
    "print(new_get_result )"
   ]
  },
  {
   "cell_type": "code",
   "execution_count": 16,
   "metadata": {},
   "outputs": [
    {
     "name": "stdout",
     "output_type": "stream",
     "text": [
      "Happy Anniversary CATHERINE!\n"
     ]
    }
   ],
   "source": [
    "def make_greeting(name, greeting = \"Hello\"):\n",
    "    return (greeting + \" \" + name + \"!\")\n",
    "\n",
    "def get_name():\n",
    "    name_entry = input(\"enter a name: \")\n",
    "    return name_entry.upper()\n",
    "\n",
    "def get_greeting():\n",
    "    greeting_entry = input(\"enter a greeting: \")\n",
    "    return greeting_entry.title()\n",
    "\n",
    "# get name and greeting, send to make_greeting \n",
    "print(make_greeting(get_name(), get_greeting()))\n",
    "\n",
    "\n",
    "\n",
    "\n",
    "\n"
   ]
  }
 ],
 "metadata": {
  "interpreter": {
   "hash": "35c1ecb0f046c6524e5e1a9385dff1bcc3872e24fdc6f1de04dc6fc3393ca3ab"
  },
  "kernelspec": {
   "display_name": "Python 3.10.4 64-bit (windows store)",
   "language": "python",
   "name": "python3"
  },
  "language_info": {
   "codemirror_mode": {
    "name": "ipython",
    "version": 3
   },
   "file_extension": ".py",
   "mimetype": "text/x-python",
   "name": "python",
   "nbconvert_exporter": "python",
   "pygments_lexer": "ipython3",
   "version": "3.10.4"
  },
  "orig_nbformat": 4
 },
 "nbformat": 4,
 "nbformat_minor": 2
}
