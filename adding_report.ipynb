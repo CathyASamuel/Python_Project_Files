{
 "cells": [
  {
   "cell_type": "code",
   "execution_count": 11,
   "metadata": {},
   "outputs": [
    {
     "name": "stdout",
     "output_type": "stream",
     "text": [
      "\n",
      "Total\n",
      "3\n",
      "None\n",
      "\n",
      "Items\n",
      "1\n",
      "2\n",
      "\n",
      "Total\n",
      "3\n",
      "None\n"
     ]
    }
   ],
   "source": [
    "# [ ] create, call and test the adding_report() function\n",
    "#initialize total variable which will sum integer values entered\n",
    "#initialize items variable which will build a string of the integer inputs separated with a new line character\n",
    "#define the adding_report function with one parameter report that will be a string with default of \"T\"\n",
    "#inside the function build a forever loop (infinite while loop) and inside the loop complete the following\n",
    "#use a variable to gather input (integer or \"Q\")\n",
    "#check if the input string is a digit (integer) and if it is...\n",
    "#add input integer to total\n",
    "#if report type is \"A\" add the numeric character(s) to the item string seperated by a new line\n",
    "#if not a digit, check if the input string is \"Q\" or starts with a \"Q\", if \"Q\" then...\n",
    "#if the report type is \"A\" print out all the integer items entered and the sum total\n",
    "#if report type is \"T\" then print out the sum total only\n",
    "#break out of while loop to end the function after printing the report (\"A\" or \"T\")\n",
    "#if not a digit and if not a \"Q\" then print a message that the \"input is invalid\"\n",
    "#Call the adding_report function with \"A\" and then with \"T\" report parameters\n",
    "\n",
    "def adding_report(report):\n",
    "    total = 0\n",
    "    items = \"Items\\n\"\n",
    "    while True:\n",
    "        user_input = input(\"Enter an integer or 'Q': \")\n",
    "        if user_input.isdigit():\n",
    "            total += int(user_input)\n",
    "            if report == 'A':\n",
    "                items = items + user_input + \"\\n\"\n",
    "        elif user_input.upper() == 'Q':\n",
    "            if report == 'A':\n",
    "                print(\"\\n\" + items + \"\\n\" + \"Total\\n\" + str(total))\n",
    "            else:\n",
    "                print(\"\\nTotal\\n\" + str(total))\n",
    "            break\n",
    "        else:\n",
    "            print(\"Input is invalid\")\n",
    "      \n",
    "print(adding_report(\"T\"))   \n",
    "print(adding_report(\"A\"))        "
   ]
  }
 ],
 "metadata": {
  "interpreter": {
   "hash": "2be5faf79681da6f2a61fdfdd5405d65d042280f7fba6178067603e3a2925119"
  },
  "kernelspec": {
   "display_name": "Python 3.10.4 64-bit",
   "language": "python",
   "name": "python3"
  },
  "language_info": {
   "codemirror_mode": {
    "name": "ipython",
    "version": 3
   },
   "file_extension": ".py",
   "mimetype": "text/x-python",
   "name": "python",
   "nbconvert_exporter": "python",
   "pygments_lexer": "ipython3",
   "version": "3.10.4"
  },
  "orig_nbformat": 4
 },
 "nbformat": 4,
 "nbformat_minor": 2
}
