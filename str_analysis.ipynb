{
 "cells": [
  {
   "cell_type": "code",
   "execution_count": 7,
   "metadata": {},
   "outputs": [
    {
     "name": "stdout",
     "output_type": "stream",
     "text": [
      "fjfjfj : All alphabetic\n"
     ]
    }
   ],
   "source": [
    "# [ ] create and test str_analysis()\n",
    "#Check if string is digits\n",
    "#if digits: convert to int and check if greater than 99\n",
    "#if greater than 99 print a message about a \"big number\"\n",
    "#if not greater than 99 print message about small number\n",
    "#if not digits: check if string isalpha\n",
    "#if isalpha print message about being all alpha\n",
    "#if not isalpha print a message about being neither all alpha nor all digit\n",
    "#call the function with a string from user input\n",
    "def str_analysis(string):\n",
    "    if string.isdigit() == True:\n",
    "        int_string = int(string)\n",
    "        if int_string > 99:\n",
    "            return(\"Big Number\")\n",
    "        else:\n",
    "            return(\"Small Number\")\n",
    "    elif string.isalpha() == True: \n",
    "        return(\"All alphabetic\")\n",
    "    else:\n",
    "        return(\"Multiple character types\")  \n",
    "     \n",
    "\n",
    "        \n",
    "while True:\n",
    "    string = input(\"Enter a string\")\n",
    "    if string == \"\":\n",
    "        break\n",
    "    else:\n",
    "        string2 = str_analysis(string)\n",
    "        print(string,\":\", string2)"
   ]
  }
 ],
 "metadata": {
  "interpreter": {
   "hash": "2be5faf79681da6f2a61fdfdd5405d65d042280f7fba6178067603e3a2925119"
  },
  "kernelspec": {
   "display_name": "Python 3.10.4 64-bit",
   "language": "python",
   "name": "python3"
  },
  "language_info": {
   "codemirror_mode": {
    "name": "ipython",
    "version": 3
   },
   "file_extension": ".py",
   "mimetype": "text/x-python",
   "name": "python",
   "nbconvert_exporter": "python",
   "pygments_lexer": "ipython3",
   "version": "3.10.4"
  },
  "orig_nbformat": 4
 },
 "nbformat": 4,
 "nbformat_minor": 2
}
