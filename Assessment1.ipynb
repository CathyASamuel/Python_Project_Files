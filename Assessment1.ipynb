{
 "cells": [
  {
   "cell_type": "code",
   "execution_count": 1,
   "metadata": {},
   "outputs": [
    {
     "name": "stdout",
     "output_type": "stream",
     "text": [
      "Hello!\n"
     ]
    }
   ],
   "source": [
    "# [ ] print 'Hello!' and remember to save notebook!\n",
    "print('Hello!')"
   ]
  },
  {
   "cell_type": "code",
   "execution_count": 2,
   "metadata": {},
   "outputs": [
    {
     "name": "stdout",
     "output_type": "stream",
     "text": [
      "watch for the cat\n"
     ]
    }
   ],
   "source": [
    "print('watch for the cat')"
   ]
  },
  {
   "cell_type": "code",
   "execution_count": 4,
   "metadata": {},
   "outputs": [
    {
     "name": "stdout",
     "output_type": "stream",
     "text": [
      "Run as a code cell\n"
     ]
    }
   ],
   "source": [
    "#[ ] convert *this* cell from markdown to a code cell, then run it\n",
    "print('Run as a code cell')"
   ]
  },
  {
   "cell_type": "code",
   "execution_count": 5,
   "metadata": {},
   "outputs": [
    {
     "name": "stdout",
     "output_type": "stream",
     "text": [
      "Catherine Anne Samuel\n",
      " is using Python\n"
     ]
    }
   ],
   "source": [
    "# [ ] print your name\n",
    "# [ ] print \"is using Python\"\n",
    "\n",
    "print(\"Catherine Anne Samuel\")\n",
    "print(\" is using Python\")"
   ]
  },
  {
   "cell_type": "code",
   "execution_count": 7,
   "metadata": {},
   "outputs": [
    {
     "name": "stdout",
     "output_type": "stream",
     "text": [
      "Catherine Anne Samuel\n"
     ]
    }
   ],
   "source": [
    "# [ ] create a variable your_name and assign it a string containing your name\n",
    "#[ ] print your_name\n",
    "your_name = \"Catherine Anne Samuel\"\n",
    "print(your_name)"
   ]
  },
  {
   "cell_type": "code",
   "execution_count": 16,
   "metadata": {},
   "outputs": [
    {
     "name": "stdout",
     "output_type": "stream",
     "text": [
      "YOUR MAN by JOSH TURNER\n",
      "10\n",
      "11011968\n"
     ]
    }
   ],
   "source": [
    "# [ ] create variables and assign values for: favorite_song, shoe_size, lucky_number\n",
    "# [ ] print the value of each variable favorite_song, shoe_size, and lucky_number\n",
    "my_favorite_song = \"YOUR MAN by JOSH TURNER\"\n",
    "my_shoe_size = \"10\"\n",
    "my_lucky_number = \"11011968\"\n",
    "print(my_favorite_song)\n",
    "print(my_shoe_size)\n",
    "print(my_lucky_number)\n",
    "\n",
    "\n"
   ]
  },
  {
   "cell_type": "code",
   "execution_count": 17,
   "metadata": {},
   "outputs": [
    {
     "name": "stdout",
     "output_type": "stream",
     "text": [
      "My favorite song is YOUR MAN by JOSH TURNER\n",
      "My shoe size is 10\n",
      "My lucky number is 11011968\n"
     ]
    }
   ],
   "source": [
    "# [ ] print favorite_song with description\n",
    "# [ ] print shoe_size with description\n",
    "# [ ] print lucky_number with description\n",
    "print(\"My favorite song is \" + my_favorite_song)\n",
    "print(\"My shoe size is \" + my_shoe_size)\n",
    "print(\"My lucky number is \" + my_lucky_number)"
   ]
  },
  {
   "cell_type": "code",
   "execution_count": 26,
   "metadata": {},
   "outputs": [
    {
     "name": "stdout",
     "output_type": "stream",
     "text": [
      "I played YOUR MAN by JOSH TURNER 10 times but I should have played it 11011968 times\n"
     ]
    }
   ],
   "source": [
    "# assign favorite_lucky_shoe\n",
    "favorite_lucky_shoe = \"I played \" + my_favorite_song + \" \" + my_shoe_size + \" times but I should have played it \" + my_lucky_number + \" times\"\n",
    "print(favorite_lucky_shoe)"
   ]
  },
  {
   "cell_type": "code",
   "execution_count": 16,
   "metadata": {},
   "outputs": [
    {
     "name": "stdout",
     "output_type": "stream",
     "text": [
      "*\n",
      "  *\n",
      "     *\n",
      "       *\n",
      "         *\n",
      "           *\n",
      "******************\n",
      "*                *\n",
      "*                *\n",
      "******************\n",
      "    *  *  *\n",
      "  *         *\n",
      "*   *    *    *\n",
      "*      ^      *\n",
      "  *    -     *\n",
      "    *  *  *\n"
     ]
    }
   ],
   "source": [
    "# [ ] print a diagonal using \"*\"\n",
    "print(\"*\")\n",
    "print(\"  *\")\n",
    "print(\"     *\")\n",
    "print(\"       *\")\n",
    "print(\"         *\")\n",
    "print(\"           *\")\n",
    "# [ ] rectangle using \"*\"\n",
    "print(\"******************\")\n",
    "print(\"*                *\")\n",
    "print(\"*                *\")\n",
    "print(\"******************\")\n",
    "\n",
    "\n",
    "\n",
    "# [ ] smiley using \"*\"\n",
    "print(\"    *  *  *\")\n",
    "print(\"  *         *\")\n",
    "print(\"*   *    *    *\")\n",
    "print(\"*      ^      *\")\n",
    "print(\"  *    -     *\")\n",
    "print(\"    *  *  *\")\n",
    "\n",
    "\n",
    "\n"
   ]
  },
  {
   "cell_type": "code",
   "execution_count": 30,
   "metadata": {},
   "outputs": [
    {
     "name": "stdout",
     "output_type": "stream",
     "text": [
      "<class 'str'>\n",
      "<class 'str'>\n"
     ]
    }
   ],
   "source": [
    "# [ ] display the type of 'your name' (use single quotes)\n",
    "# [ ] display the type of \"save your notebook!\" (use double quotes)\n",
    "print(type('Catherine Anne Samuel'))\n",
    "print(type(\"save your notebook!\" ))"
   ]
  },
  {
   "cell_type": "code",
   "execution_count": 32,
   "metadata": {},
   "outputs": [
    {
     "name": "stdout",
     "output_type": "stream",
     "text": [
      "<class 'str'>\n",
      "<class 'str'>\n",
      "<class 'int'>\n",
      "<class 'int'>\n",
      "<class 'float'>\n",
      "<class 'float'>\n"
     ]
    }
   ],
   "source": [
    "# [ ] display the type of \"25\" (use quotes)\n",
    "# [ ] display the type of \"save your notebook \" + 'your name'\n",
    "# [ ] display the type of 25 (no quotes)\n",
    "# [ ] display the type of 25 + 10 \n",
    "# [ ] display the type of 1.55\n",
    "# [ ] display the type of 1.55 + 25\n",
    "print(type(\"25\"))\n",
    "print(type(\"save your notebook\" + 'Catherine Anne Samuel'))\n",
    "print(type(25))\n",
    "print(type(25+10))\n",
    "print(type(1.55))\n",
    "print(type(1.55+25))\n"
   ]
  },
  {
   "cell_type": "code",
   "execution_count": 33,
   "metadata": {},
   "outputs": [],
   "source": [
    "student_name = \"Gus\"\n",
    "student_age = 16\n",
    "student_grade = 3.5\n",
    "student_id = \"ABC-000-000\""
   ]
  },
  {
   "cell_type": "code",
   "execution_count": 34,
   "metadata": {},
   "outputs": [
    {
     "name": "stdout",
     "output_type": "stream",
     "text": [
      "Gus\n",
      "16\n",
      "3.5\n",
      "19.5\n",
      "ABC-000-000\n",
      "CAS11011968\n"
     ]
    }
   ],
   "source": [
    "# [ ] display the current type of the variable student_name\n",
    "print(student_name)\n",
    "# [ ] display the type of student_age\n",
    "print(student_age)\n",
    "# [ ] display the type of student_grade\n",
    "print(student_grade)\n",
    "# [ ] display the type of student_age + student_grade\n",
    "print(student_age + student_grade)\n",
    "# [ ] display the current type of student_id\n",
    "print(student_id)\n",
    "# assign new value to student_id \n",
    "student_id = 'CAS11011968'\n",
    "# [ ] display the current type of student_id\n",
    "print(student_id)\n"
   ]
  },
  {
   "cell_type": "code",
   "execution_count": 35,
   "metadata": {},
   "outputs": [],
   "source": [
    "# [ ] create integer variables (x, y, z) and assign them 1-3 digit integers (no decimals - no quotes)\n",
    "x = 20\n",
    "y = 44\n",
    "z = 6"
   ]
  },
  {
   "cell_type": "code",
   "execution_count": 36,
   "metadata": {},
   "outputs": [
    {
     "name": "stdout",
     "output_type": "stream",
     "text": [
      "70\n"
     ]
    }
   ],
   "source": [
    "#create an integer variable named xyz_sum equal to the sum of x, y, and z\n",
    "# print the value of xyz_sum\n",
    "xyz_sum = x + y + z\n",
    "print(xyz_sum)\n"
   ]
  },
  {
   "cell_type": "code",
   "execution_count": 38,
   "metadata": {},
   "outputs": [
    {
     "name": "stdout",
     "output_type": "stream",
     "text": [
      "Hello World!\n",
      "strings have quotes and variables have names\n",
      "I have $5\n",
      "always save the notebook\n"
     ]
    }
   ],
   "source": [
    "# [ ] fix the error \n",
    "#print(\"Hello World!\"\")    \n",
    "print(\"Hello World!\")    \n",
    "\n",
    "# [ ] fix the error \n",
    "#print(strings have quotes and variables have names)\n",
    "print(\"strings have quotes and variables have names\")\n",
    "\n",
    "# [ ] fix the error \n",
    "#print( \"I have $\" + 5)\n",
    "print( \"I have $\" + \"5\")\n",
    "\n",
    "# [ ] fix the error \n",
    "#print('always save the notebook\")\n",
    "print('always save the notebook')     \n"
   ]
  },
  {
   "cell_type": "code",
   "execution_count": 40,
   "metadata": {},
   "outputs": [
    {
     "name": "stdout",
     "output_type": "stream",
     "text": [
      "*******              *                   **********\n",
      "*                  *    *                *\n",
      "*                *         *             * \n",
      "*              ***************           **********\n",
      "*             *                 *                 *\n",
      "*           *                    *                *\n",
      "*******    *                       *     **********\n"
     ]
    }
   ],
   "source": [
    "# [ ] capital letter \"E\" character art\n",
    "print('*******              *                   **********')\n",
    "print('*                  *    *                *')\n",
    "print('*                *         *             * ')\n",
    "print('*              ***************           **********')\n",
    "print('*             *                 *                 *')\n",
    "print('*           *                    *                *')\n",
    "print('*******    *                       *     **********')"
   ]
  },
  {
   "cell_type": "code",
   "execution_count": 45,
   "metadata": {},
   "outputs": [
    {
     "name": "stdout",
     "output_type": "stream",
     "text": [
      "               |\\_/|\n",
      "              (_ ^-^)\n",
      "            _  )   (\n",
      "          ((  /       \\ \n",
      "           (   )  ||  ||\n",
      "           '_  ' '_ ' '_ '   \n"
     ]
    }
   ],
   "source": [
    "print(\"               |\\_/|\")\n",
    "print(\"              (_ ^-^)\")\n",
    "print(\"            _  )   (\")\n",
    "print(\"          ((  /       \\ \")\n",
    "print(\"           (   )  ||  ||\")\n",
    "print(\"           '_  ' '_ ' '_ '   \")\n",
    "      \n",
    "      "
   ]
  }
 ],
 "metadata": {
  "interpreter": {
   "hash": "2be5faf79681da6f2a61fdfdd5405d65d042280f7fba6178067603e3a2925119"
  },
  "kernelspec": {
   "display_name": "Python 3.10.4 64-bit",
   "language": "python",
   "name": "python3"
  },
  "language_info": {
   "codemirror_mode": {
    "name": "ipython",
    "version": 3
   },
   "file_extension": ".py",
   "mimetype": "text/x-python",
   "name": "python",
   "nbconvert_exporter": "python",
   "pygments_lexer": "ipython3",
   "version": "3.10.4"
  },
  "orig_nbformat": 4
 },
 "nbformat": 4,
 "nbformat_minor": 2
}
