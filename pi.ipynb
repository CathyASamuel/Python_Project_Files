{
 "cells": [
  {
   "cell_type": "code",
   "execution_count": 2,
   "metadata": {},
   "outputs": [
    {
     "name": "stdout",
     "output_type": "stream",
     "text": [
      "Number is 5 not 2\n",
      "Number is 9 not 3\n",
      "Number is 2 not 4\n",
      "Number is 6 not 5\n",
      "Number is 5 not 6\n",
      "Number is 3 not 7\n",
      "Number is 5 not 8\n",
      "Correct 0 \n",
      " Incorrect 7\n"
     ]
    }
   ],
   "source": [
    "piread = open('pi.txt','r')\n",
    "name = input(\"enter hi\")\n",
    "seed = len(name)\n",
    "piread.seek(seed)\n",
    "digit = piread.read(1)\n",
    "guess = input(\"enter a single digit guess or q to quit\")\n",
    "correct = 0\n",
    "wrong = 0\n",
    "\n",
    "while guess.isdigit():\n",
    "    if digit == \".\":\n",
    "        digit = piread.read(1)\n",
    "    elif digit == \"\\n\":\n",
    "        seed = 1\n",
    "        piread.seek(seed)\n",
    "        digit = piread.read(1)\n",
    "    else:\n",
    "        if int(guess) == int(digit):\n",
    "            print(guess, \":correct\")\n",
    "            correct += 1\n",
    "        else:\n",
    "            print(\"Number is\", digit, \"not\", guess)\n",
    "            wrong += 1\n",
    "    guess = input(\"input a non-digit guess\")\n",
    "    digit = piread.read(1)\n",
    "print(\"Correct\",correct,\"\\n Incorrect\",wrong)\n",
    "piread.close()\n"
   ]
  }
 ],
 "metadata": {
  "interpreter": {
   "hash": "35c1ecb0f046c6524e5e1a9385dff1bcc3872e24fdc6f1de04dc6fc3393ca3ab"
  },
  "kernelspec": {
   "display_name": "Python 3.10.4 64-bit (windows store)",
   "language": "python",
   "name": "python3"
  },
  "language_info": {
   "codemirror_mode": {
    "name": "ipython",
    "version": 3
   },
   "file_extension": ".py",
   "mimetype": "text/x-python",
   "name": "python",
   "nbconvert_exporter": "python",
   "pygments_lexer": "ipython3",
   "version": "3.10.4"
  },
  "orig_nbformat": 4
 },
 "nbformat": 4,
 "nbformat_minor": 2
}
