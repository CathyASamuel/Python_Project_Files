{
 "cells": [
  {
   "cell_type": "code",
   "execution_count": 10,
   "metadata": {},
   "outputs": [
    {
     "name": "stdout",
     "output_type": "stream",
     "text": [
      "For the letter you entered: H\n",
      "The answer is: no match\n"
     ]
    }
   ],
   "source": [
    "# [ ] make the code into a function rainbow_color() that has a string parameter, \n",
    "#print the color matching the letter\n",
    "letter = \"\"\n",
    "def rainbow_color(letter):\n",
    "    if letter == \"R\":\n",
    "        return(\"Red\")\n",
    "    if letter == \"O\":\n",
    "        return(\"Orange\")\n",
    "    if letter == \"Y\":\n",
    "        return(\"Yellow\")\n",
    "    if letter ==\"G\":\n",
    "        return(\"Green\")\n",
    "    if letter == \"B\":\n",
    "        return(\"Blue\")\n",
    "    if letter == \"I\":\n",
    "        return(\"Indigo\")\n",
    "    if letter == \"V\":\n",
    "        return(\"Violet\")\n",
    "    else:\n",
    "        return(\"no match\") \n",
    "\n",
    "\n",
    "# get input and call the function and return the matching color as a string or \"no match\" message.\n",
    "# Call the function and print the return string.\n",
    "rainbow_letter = input(\"Enter a letter to make the color of the Rainbow\").upper()\n",
    "get_color = rainbow_color(rainbow_letter)\n",
    "print(\"For the letter you entered:\", rainbow_letter)\n",
    "print(\"The answer is:\", get_color)"
   ]
  },
  {
   "cell_type": "code",
   "execution_count": 16,
   "metadata": {},
   "outputs": [
    {
     "name": "stdout",
     "output_type": "stream",
     "text": [
      "For 45 Adding/Subtracting that age with 20 is  25\n"
     ]
    }
   ],
   "source": [
    "#Create function age_20() that adds or subtracts 20 from your age for a return value based on current age (use if)\n",
    "def age_20(age):\n",
    "    if int(age) > 20:\n",
    "        return (int(age)-20)\n",
    "    else:\n",
    "        return (20-int(age))\n",
    "    \n",
    "#call the funtion with user input and then use the return value in a sentence\n",
    "\n",
    "age_input = input(\"Enter an age:\")\n",
    "age_result = age_20(age_input)\n",
    "print(\"For\", age_input, \"Adding/Subtracting that age with 20 is \", age_result)\n"
   ]
  },
  {
   "cell_type": "code",
   "execution_count": 27,
   "metadata": {},
   "outputs": [
    {
     "name": "stdout",
     "output_type": "stream",
     "text": [
      "For input 6 here is the result: Color/Age: 14\n"
     ]
    }
   ],
   "source": [
    "#create a function rainbow_or_age that takes a string argument\n",
    "#if argument is a digit return the value of calling age_20() with the str value cast as int\n",
    "#if argument is an alphabetical character return the value of calling rainbow_color() with the str\n",
    "#if neither return FALSE\n",
    "\n",
    "def rainbow_or_age(input):\n",
    "    if input.isdigit():\n",
    "        return (age_20(int(input)))\n",
    "    if input.isalpha():\n",
    "        return (rainbow_color(input.upper()))\n",
    "    else:\n",
    "        return (False)\n",
    "    \n",
    "    \n",
    "    \n",
    "get_input = input(\"Enter digit for age or an alphabetic character for the color of the Rainbow\")\n",
    "get_result = rainbow_or_age(get_input)\n",
    "print(\"For input\", get_input.upper(), \"here is the result: Color/Age:\",get_result)"
   ]
  },
  {
   "cell_type": "code",
   "execution_count": 9,
   "metadata": {},
   "outputs": [
    {
     "name": "stdout",
     "output_type": "stream",
     "text": [
      "Adding: 1 + 4 = 5\n",
      "Multiplying: 1 * 4 = 4\n",
      "Finding the Average: 1 & 4 = 2\n",
      "Subtracting: 1 & 4 = 3\n",
      "Dividing 1 & 4 = 4\n"
     ]
    }
   ],
   "source": [
    "get_input_1 = input(\"Enter an integer\")\n",
    "get_input_2 = input(\"Enter another integer\")\n",
    "# [ ]  add 2 numbers from input using a cast to integer and display the answer \n",
    "i_get_input_1 = int(get_input_1)\n",
    "i_get_input_2 = int(get_input_2)\n",
    "add_numbers = i_get_input_1 + i_get_input_2\n",
    "\n",
    "# [ ] Multiply 2 numbers from input using cast and save the answer as part of a string \"the answer is...\"\n",
    "# display the string using print\n",
    "multiply_numbers = i_get_input_1 * i_get_input_2\n",
    "\n",
    "# [ ] get input of 2 numbers and display the average: (num1 + num2) divided by 2\n",
    "average_numbers = (i_get_input_1 + i_get_input_2)//2\n",
    "\n",
    "# [ ] get input of 2 numbers and subtract the largest from the smallest (use an if statement to see which is larger)\n",
    "# show the answer\n",
    "if i_get_input_1 > i_get_input_2:\n",
    "    subtract_number = i_get_input_1 - i_get_input_2\n",
    "else:\n",
    "    subtract_numbers = i_get_input_2 - i_get_input_1\n",
    "\n",
    "# [ ] Divide a larger number by a smaller number and print the integer part of the result\n",
    "# don't divide by zero! if a zero is input make the result zero\n",
    "if not (i_get_input_1) == 0 or (i_get_input_2 ==0):\n",
    "    if i_get_input_1 > i_get_input_2:\n",
    "        divide_numbers = i_get_input_1 // i_get_input_2\n",
    "    else:\n",
    "        divide_numbers = i_get_input_2 // i_get_input_1\n",
    "        \n",
    "print(\"Adding:\",i_get_input_1,\"+\", i_get_input_2, \"=\", add_numbers)\n",
    "print(\"Multiplying:\",i_get_input_1,\"*\", i_get_input_2, \"=\", multiply_numbers)\n",
    "print(\"Finding the Average:\",i_get_input_1,\"&\", i_get_input_2, \"=\", average_numbers)\n",
    "print(\"Subtracting:\",i_get_input_1,\"&\", i_get_input_2, \"=\", subtract_numbers)\n",
    "print(\"Dividing\",i_get_input_1,\"&\", i_get_input_2, \"=\", divide_numbers)"
   ]
  }
 ],
 "metadata": {
  "interpreter": {
   "hash": "35c1ecb0f046c6524e5e1a9385dff1bcc3872e24fdc6f1de04dc6fc3393ca3ab"
  },
  "kernelspec": {
   "display_name": "Python 3.10.4 64-bit (windows store)",
   "language": "python",
   "name": "python3"
  },
  "language_info": {
   "codemirror_mode": {
    "name": "ipython",
    "version": 3
   },
   "file_extension": ".py",
   "mimetype": "text/x-python",
   "name": "python",
   "nbconvert_exporter": "python",
   "pygments_lexer": "ipython3",
   "version": "3.10.4"
  },
  "orig_nbformat": 4
 },
 "nbformat": 4,
 "nbformat_minor": 2
}
