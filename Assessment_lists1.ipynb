{
 "cells": [
  {
   "cell_type": "code",
   "execution_count": 14,
   "metadata": {},
   "outputs": [
    {
     "name": "stdout",
     "output_type": "stream",
     "text": [
      "Sunday Wednesday Friday\n"
     ]
    }
   ],
   "source": [
    "#[ ] create and populate list called days_of_week then print it\n",
    "# [ ] after days_of_week is run above, print the days in the list at odd indexes 1,3,5\n",
    "days_of_week = [\"Sunday\", \"Monday\", \"Tuesday\", \"Wednesday\", \"Thursday\", \"Friday\",\"Saturday\"]\n",
    "print(days_of_week[0], days_of_week[3], days_of_week[5])"
   ]
  },
  {
   "cell_type": "code",
   "execution_count": 26,
   "metadata": {},
   "outputs": [],
   "source": [
    "#Create a list, phone_letters, where the index 0 - 9 contains the letters for keys 0 - 9.\n",
    "#0 = ' ' (a space)\n",
    "#1 = '' (empty)\n",
    "#2 = 'ABC'\n",
    "#3 = 'DEF'\n",
    "#etc...\n",
    "# [ ] create and populate list called phone_letters then print it\n",
    "phone_letters = [0,\"\",1,\"\",2,\"ABC\",3,\"DEF\",4,\"GHI\",5,\"JKL\",6,\"MNO\",7,\"PQR\",8,\"STU\",9,\"VWZY\"]"
   ]
  },
  {
   "cell_type": "code",
   "execution_count": 7,
   "metadata": {},
   "outputs": [
    {
     "name": "stdout",
     "output_type": "stream",
     "text": [
      "Tuesday\n",
      "Friday\n"
     ]
    }
   ],
   "source": [
    "# [ ] create a variable: day, assign day to \"Tuesday\" using days_of_week[]\n",
    "# [ ] print day variable\n",
    "day = days_of_week[2]\n",
    "print(day)\n",
    "# PART 2\n",
    "# [ ] assign day to days_of_week index = 5\n",
    "# [ ] print \n",
    "day = days_of_week[5]\n",
    "print(day)\n"
   ]
  },
  {
   "cell_type": "code",
   "execution_count": 8,
   "metadata": {},
   "outputs": [
    {
     "name": "stdout",
     "output_type": "stream",
     "text": [
      "['Sunday', 'Monday', 'Tuesday', 'Wednesday', 'Thursday', 'Friday', 'Saturday', 'Newday']\n"
     ]
    }
   ],
   "source": [
    "#Use days_of_week list created above\n",
    "#Run the cell defining days_of_week above to make the list available\n",
    "# [ ] Make up a new day! - append an 8th day of the week to days_of_week \n",
    "# [ ] print days_of_week\n",
    "day = days_of_week.append(\"Newday\")\n",
    "print(days_of_week)"
   ]
  },
  {
   "cell_type": "code",
   "execution_count": 15,
   "metadata": {},
   "outputs": [
    {
     "name": "stdout",
     "output_type": "stream",
     "text": [
      "['Sunday', 'Monday', 'Tuesday', 'Wednesday', 'Newday2', 'Thursday', 'Friday', 'Newday3', 'Saturday']\n"
     ]
    }
   ],
   "source": [
    "# [ ] Make up another new day - insert a new day into the middle of days_of_week between Wed - Thurs\n",
    "# [ ] print days_of_week\n",
    "days_of_week.insert(4,\"Newday2\")\n",
    "# [ ]  Extend the weekend - insert a day between Fri & Sat in the days_of_week list\n",
    "# [ ] print days_of_week\n",
    "days_of_week.insert(7,\"Newday3\")\n",
    "print(days_of_week)\n",
    "\n"
   ]
  },
  {
   "cell_type": "code",
   "execution_count": 20,
   "metadata": {},
   "outputs": [
    {
     "name": "stdout",
     "output_type": "stream",
     "text": [
      "['Sunday', 'Monday', 'Tuesday']\n",
      "['Sunday', 'Monday']\n",
      "['Sunday', 'Monday']\n",
      "['Sunday', 'Monday']\n",
      "['Sunday', 'Monday']\n",
      "Sunday\n"
     ]
    }
   ],
   "source": [
    "# [ ] print days_of_week \n",
    "# [ ] modified week is too long - pop() the last index of days_of_week & print .pop() value\n",
    "# [ ] print days_of_week\n",
    "print(days_of_week)\n",
    "days_of_week.pop()\n",
    "print(days_of_week)\n",
    "# [ ] print days_of_week \n",
    "# [ ] delete (del) the new day added to the middle of the week \n",
    "# [ ] print days_of_week\n",
    "print(days_of_week)\n",
    "#del days_of_week[4]\n",
    "print(days_of_week)\n",
    "# [ ] print days_of_week \n",
    "# [ ] programmers choice - pop() any day in days_of week & print .pop() value\n",
    "# [ ] print days_of_week\n",
    "print(days_of_week)\n",
    "pop = days_of_week.pop(0)\n",
    "print(pop)"
   ]
  },
  {
   "cell_type": "code",
   "execution_count": 28,
   "metadata": {},
   "outputs": [
    {
     "name": "stdout",
     "output_type": "stream",
     "text": [
      "[2, 3, 4, 5, 6, 7, 8, 9, 11, 22, 33, 44, 55, 66, 77]\n",
      "[1, 77, 66, 55, 44, 33, 22, 11, 9, 8, 7, 6, 5, 4, 3, 2]\n"
     ]
    }
   ],
   "source": [
    "#pop() the first item in the list and add to the beginning of a new string that will be reversed\n",
    "some_numbers =[1,2,3,4,5,6,7,8,9,11,22,33,44,55,66,77]\n",
    "pop = some_numbers.pop(0)\n",
    "\n",
    "\n",
    "# [ ] Challenge: write the code for \"reverse a string\" reversing some_numbers\n",
    "def Reverse(lst):\n",
    "    return [ele for ele in reversed(lst)]\n",
    "\n",
    "new_some_numbers =(Reverse(some_numbers))    \n",
    "new_some_numbers.insert(0,pop)\n",
    "\n",
    "print(some_numbers)\n",
    "print(new_some_numbers)"
   ]
  },
  {
   "cell_type": "code",
   "execution_count": 3,
   "metadata": {},
   "outputs": [
    {
     "name": "stdout",
     "output_type": "stream",
     "text": [
      "9\n"
     ]
    }
   ],
   "source": [
    "phone_letters = [' ', '', 'ABC', 'DEF', 'GHI', 'JKL', 'MNO', 'PQRS', 'TUV', 'WXYZ']\n",
    "def let_to_num():  #letter argument removed, input() will do the job\n",
    "    letter=input(\"Enter single letter, space or empty: \").upper()\n",
    "    key = 0\n",
    "    while key < 10: # 'for letter in phone_letters' loop not needed, this line will loop along phone_letters anyway\n",
    "        if letter in phone_letters[key]:\n",
    "                return key  #key is the index itself\n",
    "        else:\n",
    "            key = key + 1\n",
    "    return (\"Not found\") #should return 'not found' instead, it will be printed in line 11\n",
    "print(let_to_num())"
   ]
  }
 ],
 "metadata": {
  "interpreter": {
   "hash": "2be5faf79681da6f2a61fdfdd5405d65d042280f7fba6178067603e3a2925119"
  },
  "kernelspec": {
   "display_name": "Python 3.10.4 64-bit",
   "language": "python",
   "name": "python3"
  },
  "language_info": {
   "codemirror_mode": {
    "name": "ipython",
    "version": 3
   },
   "file_extension": ".py",
   "mimetype": "text/x-python",
   "name": "python",
   "nbconvert_exporter": "python",
   "pygments_lexer": "ipython3",
   "version": "3.10.4"
  },
  "orig_nbformat": 4
 },
 "nbformat": 4,
 "nbformat_minor": 2
}
