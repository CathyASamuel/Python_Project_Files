{
 "cells": [
  {
   "cell_type": "code",
   "execution_count": 2,
   "metadata": {},
   "outputs": [
    {
     "name": "stdout",
     "output_type": "stream",
     "text": [
      "Enter name: \n",
      "Catherine Anne Samuel\n"
     ]
    }
   ],
   "source": [
    "# [ ] get input for the variable student_name\n",
    "# [ ] determine the type of student_name\n",
    "print(\"Enter name: \")\n",
    "my_name = input()\n",
    "print(my_name)"
   ]
  },
  {
   "cell_type": "code",
   "execution_count": 5,
   "metadata": {},
   "outputs": [
    {
     "name": "stdout",
     "output_type": "stream",
     "text": [
      "enter a name or number\n",
      "<class 'str'>\n"
     ]
    }
   ],
   "source": [
    "# [ ] run cell several times entering a name a int number and a float number after adding code below\n",
    "print(\"enter a name or number\")\n",
    "test_input = input()\n",
    "# [ ] insert code below to check the type of test_input\n",
    "print(type(test_input))"
   ]
  },
  {
   "cell_type": "code",
   "execution_count": 7,
   "metadata": {},
   "outputs": [
    {
     "name": "stdout",
     "output_type": "stream",
     "text": [
      "St George\n"
     ]
    }
   ],
   "source": [
    "# [ ] get user input for a city name in the variable named city\n",
    "# [ ] print the city name\n",
    "city = input(\"Kindly enter the name of your city: \")\n",
    "print(city)"
   ]
  },
  {
   "cell_type": "code",
   "execution_count": 10,
   "metadata": {},
   "outputs": [
    {
     "name": "stdout",
     "output_type": "stream",
     "text": [
      "Your information indicates that Cathereine Anne Samuel whose age is 54 responded  No to getting emails\n"
     ]
    }
   ],
   "source": [
    "# [ ]create variables to store input: name, age, get_mail with prompts\n",
    "# for name, age and yes/no to being on an email list\n",
    "# [ ] print a description + variable value for each variable\n",
    "my_name = input(\"What is your name? \")\n",
    "my_age = input(\"What is your age? \")\n",
    "get_mail = input(\"Do you get mail?(Yes/No) \" )\n",
    "print(\"Your information indicates that \"  + my_name + \" whose age is \" + my_age + \" responded  \" + get_mail + \" to getting emails\")\n"
   ]
  },
  {
   "cell_type": "code",
   "execution_count": 11,
   "metadata": {},
   "outputs": [
    {
     "name": "stdout",
     "output_type": "stream",
     "text": [
      "Hello Cathereine Anne Samuel !\n"
     ]
    }
   ],
   "source": [
    "# [ ] print 3 strings on the same line using commas inside the print() function \n",
    "print(\"Hello\", my_name , \"!\")"
   ]
  },
  {
   "cell_type": "code",
   "execution_count": 12,
   "metadata": {},
   "outputs": [
    {
     "name": "stdout",
     "output_type": "stream",
     "text": [
      "I am 54 not 100 my name is Cathereine Anne Samuel\n"
     ]
    }
   ],
   "source": [
    "# [ ] use a print() function with comma separation to combine 2 numbers and 2 strings\n",
    "print(\"I am\", my_age, \"not\", 100,\"my name is\" ,my_name)\n",
    "\n",
    "\n"
   ]
  },
  {
   "cell_type": "code",
   "execution_count": null,
   "metadata": {},
   "outputs": [],
   "source": []
  },
  {
   "cell_type": "code",
   "execution_count": 17,
   "metadata": {},
   "outputs": [
    {
     "name": "stdout",
     "output_type": "stream",
     "text": [
      "I live at #123 on Mt Moritz Main Road\n"
     ]
    }
   ],
   "source": [
    "# [ ] get user input for a street name in the variable, street\n",
    "# [ ] get user input for a street number in the variable, st_number\n",
    "# [ ] display a message about the street and st_number\n",
    "street = input(\"What is the name of your street? \")\n",
    "st_number = input(\"What is the number? \")\n",
    "print(\"I live at #\"+st_number, \"on\", street)\n",
    "\n"
   ]
  },
  {
   "cell_type": "code",
   "execution_count": 21,
   "metadata": {},
   "outputs": [
    {
     "name": "stdout",
     "output_type": "stream",
     "text": [
      "Jude, You are reminded that  20 persons are expected at 10 am,to arive as early as 8 am\n"
     ]
    }
   ],
   "source": [
    "# [ ] get input for variables: owner, num_people, training_time  - use descriptive prompt text\n",
    "owner = input(\"Who is the owner?\")\n",
    "num_people = input(\"How many people are expected?\")\n",
    "training_time = input(\"What is the time for training?\")\n",
    "# [ ] create a integer variable min_early and \"hard code\" the integer value (e.g. - 5, 10 or 15)\n",
    "min_early = 8\n",
    "# [ ] print reminder text using all variables & add additional strings -  use comma separated print formatting\n",
    "print(owner+\", You are reminded that \", num_people, \"persons are expected at\", training_time, \"am,to arive as early as\", min_early,\"am\")"
   ]
  },
  {
   "cell_type": "code",
   "execution_count": 22,
   "metadata": {},
   "outputs": [
    {
     "name": "stdout",
     "output_type": "stream",
     "text": [
      "Where's the homework?\n",
      "\"Education is what remains after one has forgotten what one has learned in school\"- Albert Einstein\n"
     ]
    }
   ],
   "source": [
    "# [ ] using a print statement, display the text: Where's the homework?\n",
    "# [ ] output with double quotes: \"Education is what remains after one has forgotten what one has learned in school\" - Albert Einstein\n",
    "print(\"Where's the homework?\")\n",
    "print('\"Education is what remains after one has forgotten what one has learned in school\"- Albert Einstein')"
   ]
  },
  {
   "cell_type": "code",
   "execution_count": 26,
   "metadata": {},
   "outputs": [
    {
     "name": "stdout",
     "output_type": "stream",
     "text": [
      "True\n",
      "False\n",
      "False\n"
     ]
    }
   ],
   "source": [
    "# [ ] Use .isalpha() on the string \"alphabetical\"\n",
    "# [ ] Use .isalpha() on the string: \"Are spaces and punctuation Alphabetical?\"\n",
    "# [ ] initialize variable alpha_test with input\n",
    "# [ ] use .isalpha() on string variable alpha_test\n",
    "print(\"alphabetical\".isalpha())\n",
    "print(\"Are spaces and punctuation Alphabetical?\".isalpha())\n",
    "alpha_test = input(\"This is to test this alpha function\")\n",
    "print(alpha_test.isalpha())\n"
   ]
  },
  {
   "cell_type": "code",
   "execution_count": 3,
   "metadata": {},
   "outputs": [
    {
     "name": "stdout",
     "output_type": "stream",
     "text": [
      "\n",
      "\n",
      "\n",
      "\n",
      "\n",
      "\n"
     ]
    }
   ],
   "source": [
    "#[ ] Program: Get a name forever ...or until done\n",
    "#create variable, familar_name, and assign it an empty string (\"\")\n",
    "#use while True:\n",
    "#ask for user input for familar_name (common name friends/family use)\n",
    "#keep asking until given a non-blank/non-space alphabetical name is received (Hint: Boolean string test)\n",
    "#break loop and print a greeting using familar_name\n",
    "# [ ] create Get Name program\n",
    "familiar_name = \"\"\n",
    "while True:\n",
    "    familiar_name = input(\"Enter familar_name (common name friends/family use)\")\n",
    "    print()\n",
    "    if familiar_name != \"\":\n",
    "        break\n",
    "    "
   ]
  },
  {
   "cell_type": "code",
   "execution_count": 5,
   "metadata": {},
   "outputs": [
    {
     "name": "stdout",
     "output_type": "stream",
     "text": [
      "\\\\WARNING!///\n",
      "\"What's that?\" isn't a specific question.\n"
     ]
    }
   ],
   "source": [
    "# [ ] print \"\\\\\\WARNING!///\"\n",
    "# [ ] print output that is exactly (with quotes): \"What's that?\" isn't a specific question.\n",
    "print(\"\\\\\\WARNING!///\")\n",
    "print(\"\\\"What's that?\\\" isn't a specific question.\")"
   ]
  },
  {
   "cell_type": "code",
   "execution_count": 7,
   "metadata": {},
   "outputs": [
    {
     "name": "stdout",
     "output_type": "stream",
     "text": [
      "One\t Two\t Three \n",
      "Four\t Five\t Six\n"
     ]
    }
   ],
   "source": [
    "# [ ] from 1 print statement output the text commented below using no spaces\n",
    "# One     Two     Three\n",
    "# Four    Five    Six\n",
    "print(\"One\\t Two\\t Three \\nFour\\t Five\\t Six\")"
   ]
  },
  {
   "cell_type": "code",
   "execution_count": 10,
   "metadata": {},
   "outputs": [
    {
     "name": "stdout",
     "output_type": "stream",
     "text": [
      "this is a valid \"pre\" word\n"
     ]
    }
   ],
   "source": [
    "# [ ] create and test pre_word()\n",
    "#get input using the directions: *enter a word that starts with \"pre\": *\n",
    "# call pre_word() with the input string\n",
    "#test if return value is False and print message explaining not a \"pre\" word\n",
    "#else print message explaining is a valid \"pre\" word\n",
    "def pre_word(word):\n",
    "    if word.startswith(\"pre\") and word.isalpha():\n",
    "        return True\n",
    "    else:\n",
    "        return False\n",
    "\n",
    "word = input(\"enter a word that starts with \\\"pre\\\": \")\n",
    "\n",
    "word = pre_word(word)\n",
    "\n",
    "if word == False:\n",
    "    print('this is not a \\\"pre\\\" word')\n",
    "\n",
    "else:\n",
    "    print('this is a valid \\\"pre\\\" word')"
   ]
  },
  {
   "cell_type": "code",
   "execution_count": 16,
   "metadata": {},
   "outputs": [
    {
     "name": "stdout",
     "output_type": "stream",
     "text": [
      "exit\n"
     ]
    }
   ],
   "source": [
    "# Create the Animal Names program\n",
    "num_animals = 4\n",
    "\n",
    "# loop while count is greater than 0\n",
    "while num_animals > 0:\n",
    "    all_animals = input(\"Enter the name of an animal\")\n",
    "    if all_animals == \"exit\":\n",
    "        break\n",
    "    else:\n",
    "        all_animals += all_animals\n",
    "        num_animals -= 1\n",
    "print(all_animals)\n"
   ]
  },
  {
   "cell_type": "code",
   "execution_count": 46,
   "metadata": {},
   "outputs": [
    {
     "name": "stdout",
     "output_type": "stream",
     "text": [
      "\"Red\" in paint colors =  True\n"
     ]
    }
   ],
   "source": [
    "# [ ] fix the error\n",
    "paint_colors = \"red, blue, green, black, orange, pink\"\n",
    "print('\"Red\" in paint colors = ','red' in paint_colors)\n"
   ]
  },
  {
   "cell_type": "code",
   "execution_count": 28,
   "metadata": {},
   "outputs": [
    {
     "name": "stdout",
     "output_type": "stream",
     "text": [
      "************\n",
      "*\n",
      "*\n",
      "*******\n",
      "*\n",
      "*\n",
      "***************\n"
     ]
    }
   ],
   "source": [
    "# [ ] capital letter \"E\" character art\n",
    "print('************')\n",
    "print('*')\n",
    "print('*')\n",
    "print('*******')\n",
    "print('*')\n",
    "print('*')\n",
    "print('***************')"
   ]
  }
 ],
 "metadata": {
  "interpreter": {
   "hash": "2be5faf79681da6f2a61fdfdd5405d65d042280f7fba6178067603e3a2925119"
  },
  "kernelspec": {
   "display_name": "Python 3.10.4 64-bit",
   "language": "python",
   "name": "python3"
  },
  "language_info": {
   "codemirror_mode": {
    "name": "ipython",
    "version": 3
   },
   "file_extension": ".py",
   "mimetype": "text/x-python",
   "name": "python",
   "nbconvert_exporter": "python",
   "pygments_lexer": "ipython3",
   "version": "3.10.4"
  },
  "orig_nbformat": 4
 },
 "nbformat": 4,
 "nbformat_minor": 2
}
