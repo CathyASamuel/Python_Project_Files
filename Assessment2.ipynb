{
 "cells": [
  {
   "cell_type": "code",
   "execution_count": 32,
   "metadata": {},
   "outputs": [
    {
     "name": "stdout",
     "output_type": "stream",
     "text": [
      "False\n",
      "False\n",
      "False\n",
      "True\n"
     ]
    }
   ],
   "source": [
    "# Allergy check \n",
    "# 1[ ] get input for test\n",
    "# 2/3[ ] print True if \"dairy\" is in the input or False if not\n",
    "# 4[ ] Check if \"nuts\" are in the input\n",
    "# 4+[ ] Challenge: Check if \"seafood\" is in the input\n",
    "# 4+[ ] Challenge: Check if \"chocolate\" is in the input\n",
    "input_test = input(\"Enter item: \").lower()\n",
    "print(\"dairy\" in input_test)\n",
    "print(\"nuts\" in input_test)\n",
    "print(\"seafood\" in input_test)\n",
    "print(\"chocolate\" in input_test)"
   ]
  }
 ],
 "metadata": {
  "interpreter": {
   "hash": "2be5faf79681da6f2a61fdfdd5405d65d042280f7fba6178067603e3a2925119"
  },
  "kernelspec": {
   "display_name": "Python 3.10.4 64-bit",
   "language": "python",
   "name": "python3"
  },
  "language_info": {
   "codemirror_mode": {
    "name": "ipython",
    "version": 3
   },
   "file_extension": ".py",
   "mimetype": "text/x-python",
   "name": "python",
   "nbconvert_exporter": "python",
   "pygments_lexer": "ipython3",
   "version": "3.10.4"
  },
  "orig_nbformat": 4
 },
 "nbformat": 4,
 "nbformat_minor": 2
}
