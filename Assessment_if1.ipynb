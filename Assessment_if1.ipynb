{
 "cells": [
  {
   "cell_type": "code",
   "execution_count": 19,
   "metadata": {},
   "outputs": [
    {
     "name": "stdout",
     "output_type": "stream",
     "text": [
      "For age  64 would be soon\n",
      "only int is accepted\n"
     ]
    }
   ],
   "source": [
    "# [ ] input a variable: age as digit and cast to int\n",
    "age = input(\"Enter age\")\n",
    "# if age greater than or equal to 12 then print message on age in 10 years \n",
    "if int(age) >= 12:\n",
    "    print(\"For age \", int(age)+10, \"would be soon\")\n",
    "else:\n",
    "    print(\"It is good to be\", age)\n",
    "# or else print message \"It is good to be\" age\n",
    "\n",
    "\n",
    "# [ ] input a number \n",
    "number = input(\"Enter a number\")\n",
    "# - if number IS a digit string then cast to int\n",
    "if number.isdigit():\n",
    "# - print number \"greater than 100 is\" True/False\n",
    "    if int(number) > 100:\n",
    "# - if number is NOT a digit string then message the user that \"only int is accepted\"\n",
    "        print(\"Greater than 100\")\n",
    "    else:\n",
    "        print(\"Not greater than 100 \")\n",
    "if not number.isdigit():\n",
    "    print(\"only int is accepted\")       "
   ]
  },
  {
   "cell_type": "code",
   "execution_count": 20,
   "metadata": {},
   "outputs": [
    {
     "name": "stdout",
     "output_type": "stream",
     "text": [
      "Your guess is Low\n",
      "Your guess is High\n",
      "Correct!\n",
      "Congratulations\n",
      "GAME OVER!\n"
     ]
    }
   ],
   "source": [
    "#check_guess() takes 2 string arguments: letter and guess (both expect single alphabetical character)\n",
    "#- if guess is not an alpha character print invalid and return False - test and print if guess is \"high\" or \"low\" and return False - test and print if guess is \"correct\" and return True\n",
    "# call with test\n",
    "# [ ] call check_guess with user input\n",
    "letter = \"J\"\n",
    "tries = 3\n",
    "\n",
    "def check_guess (guess, letter):\n",
    "    if not guess.isalpha():\n",
    "        print(\"Invalid\")\n",
    "        return False\n",
    "    if letter == guess.upper():\n",
    "        return True\n",
    "    elif letter < guess.upper():\n",
    "        print (\"Your guess is High\")\n",
    "        return False\n",
    "    else:\n",
    "        print (\"Your guess is Low\")\n",
    "        return False\n",
    "\n",
    "def letter_guess():\n",
    "    for i in range(tries):\n",
    "        guess = input (\"Enter your guess \")\n",
    "        check_guess_input = check_guess (guess, letter)\n",
    "        if check_guess_input:\n",
    "            print (\"Correct!\")\n",
    "            return True\n",
    "    return False\n",
    "\n",
    "answer = letter_guess()\n",
    "if answer:\n",
    "    print (\"Congratulations\")\n",
    "else:\n",
    "    print (\"The answer was \",letter)\n",
    "print (\"GAME OVER!\")"
   ]
  },
  {
   "cell_type": "code",
   "execution_count": 38,
   "metadata": {},
   "outputs": [
    {
     "name": "stdout",
     "output_type": "stream",
     "text": [
      "Guess again!\n",
      "Guess again!\n",
      "Guess again!\n",
      "The letter to be guessed is:  d\n",
      "Your guesses were:  t\tj\tc\t\n"
     ]
    }
   ],
   "source": [
    "#create letter_guess() function that gives user 3 guesses\n",
    "#takes a letter character argument for the answer letter\n",
    "#gets user input for letter guess\n",
    "#calls check_guess() with answer and guess\n",
    "#End letter_guess if\n",
    "#check_guess() equals True, return True\n",
    "#or after 3 failed attempts, return False\n",
    "# [ ] create letter_guess() function, call the function to test\n",
    "count = 0\n",
    "guess_list = \"\"\n",
    "import string, random\n",
    " \n",
    "random_letter = random.choice(string.ascii_letters.lower())\n",
    "    \n",
    "def letter_guess(letter):\n",
    "    if letter == random_letter:          \n",
    "        return True    \n",
    "    else:                                            \n",
    "        return False\n",
    "\n",
    "while True:                                     #repeatedly asks you to guess the letter in a random word\n",
    "    guess = input(\"Guess a letter! You have up to 3 chances!:  \").lower()\n",
    "    answer_guess = letter_guess(guess)\n",
    "    if answer_guess == True:\n",
    "        print(\"C O N G R A T U L A T I O N S! Your letter is correct!\")\n",
    "        break\n",
    "    else:\n",
    "        count += 1\n",
    "        guess_list += guess +\"\\t\"\n",
    "        print(\"Guess again!\")\n",
    "        if count == 3:\n",
    "            print(\"The letter to be guessed is: \", random_letter)\n",
    "            print(\"Your guesses were: \", guess_list)\n",
    "            break\n",
    "        else:\n",
    "            continue\n",
    "\n",
    "\n",
    "    "
   ]
  },
  {
   "cell_type": "code",
   "execution_count": 39,
   "metadata": {},
   "outputs": [
    {
     "name": "stdout",
     "output_type": "stream",
     "text": [
      "You have a liking for more pet\n",
      "Thank you for your story\n"
     ]
    }
   ],
   "source": [
    "#ask the user for a sentence about a pet and then reply\n",
    "#get user input in variable: about_pet\n",
    "#using a series of if statements respond with appropriate conversation\n",
    "#check if \"dog\" is in the string about_pet (sample reply \"Ah, a dog\")\n",
    "#check if \"cat\" is in the string about_pet\n",
    "#check if 1 or more animal is in string about_pet\n",
    "#no need for else's\n",
    "#finish with thanking for the story\n",
    "# [ ] complete pet conversation\n",
    "about_pet = input(\"Enter a sentence about a pet: \")\n",
    "\n",
    "if ('dog' in about_pet.lower()) == True:\n",
    "    print (\"Are you a lover of dogs?\")\n",
    "if ('cat' in about_pet.lower()) == True:\n",
    "    print (\"To have a cat, you must be kind and gentle\")\n",
    "if ('rabbit' in about_pet.lower()) == True: \n",
    "    print(\"Excellent choice in the furry pets\")\n",
    "if ('snake' in about_pet.lower()) == True:\n",
    "    print (\"Scary! scary!\")\n",
    "if len(about_pet.split()) > 1:\n",
    "    print(\"You have a liking for more pet\")\n",
    "\n",
    "\n",
    "print(\"Thank you for your story\")\n"
   ]
  }
 ],
 "metadata": {
  "interpreter": {
   "hash": "35c1ecb0f046c6524e5e1a9385dff1bcc3872e24fdc6f1de04dc6fc3393ca3ab"
  },
  "kernelspec": {
   "display_name": "Python 3.10.4 64-bit (windows store)",
   "language": "python",
   "name": "python3"
  },
  "language_info": {
   "codemirror_mode": {
    "name": "ipython",
    "version": 3
   },
   "file_extension": ".py",
   "mimetype": "text/x-python",
   "name": "python",
   "nbconvert_exporter": "python",
   "pygments_lexer": "ipython3",
   "version": "3.10.4"
  },
  "orig_nbformat": 4
 },
 "nbformat": 4,
 "nbformat_minor": 2
}
