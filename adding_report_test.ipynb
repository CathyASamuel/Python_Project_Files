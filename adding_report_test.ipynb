{
 "cells": [
  {
   "cell_type": "code",
   "execution_count": 4,
   "metadata": {},
   "outputs": [
    {
     "ename": "SyntaxError",
     "evalue": "'return' outside function (1747770089.py, line 31)",
     "output_type": "error",
     "traceback": [
      "\u001b[1;36m  Input \u001b[1;32mIn [4]\u001b[1;36m\u001b[0m\n\u001b[1;33m    return(items_variable, total_variable)\u001b[0m\n\u001b[1;37m    ^\u001b[0m\n\u001b[1;31mSyntaxError\u001b[0m\u001b[1;31m:\u001b[0m 'return' outside function\n"
     ]
    }
   ],
   "source": [
    "# [ ] create, call and test the adding_report() function\n",
    "#initialize total variable which will sum integer values entered\n",
    "#initialize items variable which will build a string of the integer inputs separated with a new line character\n",
    "#define the adding_report function with one parameter report that will be a string with default of \"T\"\n",
    "#inside the function build a forever loop (infinite while loop) and inside the loop complete the following\n",
    "#use a variable to gather input (integer or \"Q\")\n",
    "#check if the input string is a digit (integer) and if it is...\n",
    "#add input integer to total\n",
    "#if report type is \"A\" add the numeric character(s) to the item string seperated by a new line\n",
    "#if not a digit, check if the input string is \"Q\" or starts with a \"Q\", if \"Q\" then...\n",
    "#if the report type is \"A\" print out all the integer items entered and the sum total\n",
    "#if report type is \"T\" then print out the sum total only\n",
    "#break out of while loop to end the function after printing the report (\"A\" or \"T\")\n",
    "#if not a digit and if not a \"Q\" then print a message that the \"input is invalid\"\n",
    "#Call the adding_report function with \"A\" and then with \"T\" report parameters\n",
    "\n",
    "\n",
    "\n",
    "def adding_report(report):\n",
    "    total_variable = 0\n",
    "items_variable = \"Items_variable \\n\"\n",
    "report = \"T\"\n",
    "while True:\n",
    "        input_variable = input(\"Enter character (integer or Q)\").upper()\n",
    "        if input_variable.isdigit():\n",
    "            total_variable += int(input_variable)\n",
    "            items_variable = input_variable + \"\\n\" + items_variable\n",
    "        else:\n",
    "            if input_variable == \"Q\" or input_variable.startswith(\"Q\") == True:\n",
    "                if report == \"A\":\n",
    "                    return(items_variable, total_variable)\n",
    "                elif report == \"T\":\n",
    "                    return(total_variable) \n",
    "            else:\n",
    "                return(\"Input is invalid\")\n",
    "                break  \n",
    "\n",
    "\n",
    "\n",
    "print(adding_report(report))  \n",
    "              \n",
    "                "
   ]
  },
  {
   "cell_type": "code",
   "execution_count": null,
   "metadata": {},
   "outputs": [],
   "source": [
    "# [ ] create, call and test the adding_report() function\n",
    "#initialize total variable which will sum integer values entered\n",
    "#initialize items variable which will build a string of the integer inputs separated with a new line character\n",
    "#define the adding_report function with one parameter report that will be a string with default of \"T\"\n",
    "#inside the function build a forever loop (infinite while loop) and inside the loop complete the following\n",
    "#use a variable to gather input (integer or \"Q\")\n",
    "#check if the input string is a digit (integer) and if it is...\n",
    "#add input integer to total\n",
    "#if report type is \"A\" add the numeric character(s) to the item string seperated by a new line\n",
    "#if not a digit, check if the input string is \"Q\" or starts with a \"Q\", if \"Q\" then...\n",
    "#if the report type is \"A\" print out all the integer items entered and the sum total\n",
    "#if report type is \"T\" then print out the sum total only\n",
    "#break out of while loop to end the function after printing the report (\"A\" or \"T\")\n",
    "#if not a digit and if not a \"Q\" then print a message that the \"input is invalid\"\n",
    "#Call the adding_report function with \"A\" and then with \"T\" report parameters\n",
    "\n",
    "def adding_report(report = \"T\"):\n",
    "    total = 0\n",
    "    items = \"Items\\n\"\n",
    "    while True:\n",
    "        user_input = input(\"Enter an integer or 'Q': \")\n",
    "        if user_input.isdigit():\n",
    "            total += int(user_input)\n",
    "            if report == 'A':\n",
    "                items = items + user_input + \"\\n\"\n",
    "        elif user_input.upper() == 'Q':\n",
    "            if report == 'A':\n",
    "                print(\"\\n\" + items + \"\\n\" + \"Total\\n\" + str(total))\n",
    "            else:\n",
    "                print(\"\\nTotal\\n\" + str(total))\n",
    "            break\n",
    "        else:\n",
    "            print(\"Input is invalid\")\n",
    "      \n",
    "result = adding_report()\n",
    "print(result)            "
   ]
  }
 ],
 "metadata": {
  "interpreter": {
   "hash": "2be5faf79681da6f2a61fdfdd5405d65d042280f7fba6178067603e3a2925119"
  },
  "kernelspec": {
   "display_name": "Python 3.10.4 64-bit",
   "language": "python",
   "name": "python3"
  },
  "language_info": {
   "codemirror_mode": {
    "name": "ipython",
    "version": 3
   },
   "file_extension": ".py",
   "mimetype": "text/x-python",
   "name": "python",
   "nbconvert_exporter": "python",
   "pygments_lexer": "ipython3",
   "version": "3.10.4"
  },
  "orig_nbformat": 4
 },
 "nbformat": 4,
 "nbformat_minor": 2
}
