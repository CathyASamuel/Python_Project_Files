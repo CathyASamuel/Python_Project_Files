{
 "cells": [
  {
   "cell_type": "code",
   "execution_count": 4,
   "metadata": {},
   "outputs": [
    {
     "name": "stdout",
     "output_type": "stream",
     "text": [
      "Here is a list of flowers: ['rose', 'hibiscus', 'bougainvillea']\n",
      "primrose:- appended\n",
      "rose:- removed\n",
      "Goodbye!\n"
     ]
    }
   ],
   "source": [
    "def list_o_matic(flower_input):\n",
    "    if not flower_input:\n",
    "        pop_flower = flower_list.pop()\n",
    "        return pop_flower + \":- popped\"\n",
    "    else:\n",
    "        if flower_input in flower_list:\n",
    "            flower_list.remove(flower_input)\n",
    "            return flower_input + \":- removed\"\n",
    "        else:\n",
    "            flower_list.append(flower_input)\n",
    "            return flower_input + \":- appended\"\n",
    "\n",
    "\n",
    "\n",
    "flower_list = ['rose', 'hibiscus', 'bougainvillea']\n",
    "print(\"Here is a list of flowers:\", flower_list)\n",
    "while flower_list:\n",
    "    flower_input = input(\"Enter the name of flowers: \")\n",
    "        \n",
    "    if not flower_input.upper() == \"QUIT\":\n",
    "        print(list_o_matic(flower_input))\n",
    "    else:\n",
    "        print(\"THE END!\")\n",
    "        break"
   ]
  }
 ],
 "metadata": {
  "interpreter": {
   "hash": "d9a4ba7a39ad5692da286452aea182a2f639774b342ad6371c4f013f8b98072d"
  },
  "kernelspec": {
   "display_name": "Python 3.10.4 64-bit",
   "language": "python",
   "name": "python3"
  },
  "language_info": {
   "codemirror_mode": {
    "name": "ipython",
    "version": 3
   },
   "file_extension": ".py",
   "mimetype": "text/x-python",
   "name": "python",
   "nbconvert_exporter": "python",
   "pygments_lexer": "ipython3",
   "version": "3.10.4"
  },
  "orig_nbformat": 4
 },
 "nbformat": 4,
 "nbformat_minor": 2
}
