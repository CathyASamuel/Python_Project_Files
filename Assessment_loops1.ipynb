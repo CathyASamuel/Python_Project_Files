{
 "cells": [
  {
   "cell_type": "code",
   "execution_count": 2,
   "metadata": {},
   "outputs": [
    {
     "name": "stdout",
     "output_type": "stream",
     "text": [
      "The new line character is \"\\n\"\n"
     ]
    }
   ],
   "source": [
    "# [ ] print a string that outputs the following exactly: The new line character is \"\\n\"\n",
    "print(\"The new line character is \\\"\\\\n\\\"\")"
   ]
  },
  {
   "cell_type": "code",
   "execution_count": 3,
   "metadata": {},
   "outputs": [
    {
     "name": "stdout",
     "output_type": "stream",
     "text": [
      "\"That's how we escape!\"\n"
     ]
    }
   ],
   "source": [
    "# [ ] print output that is exactly (with quotes): \"That's how we escape!\"\n",
    "print(\"\\\"That's how we escape!\\\"\")"
   ]
  },
  {
   "cell_type": "code",
   "execution_count": 5,
   "metadata": {},
   "outputs": [
    {
     "name": "stdout",
     "output_type": "stream",
     "text": [
      "1\t one\n",
      "22\t two \n",
      "333 \t three\n"
     ]
    }
   ],
   "source": [
    "# [ ] with only 1 print statement and using No Space Characters, output the text commented below  \n",
    "# 1       one\n",
    "# 22      two\n",
    "# 333     three\n",
    "print(\"1\\t one\\n22\\t two \\n333 \\t three\") "
   ]
  },
  {
   "cell_type": "code",
   "execution_count": 11,
   "metadata": {},
   "outputs": [
    {
     "name": "stdout",
     "output_type": "stream",
     "text": [
      "\"'cabalero'\"\n"
     ]
    }
   ],
   "source": [
    "# [ ] create and test quote_me()\n",
    "#check if passed string starts with a double quote (\"\\\"\"), then surround string with single quotations\n",
    "#if the passed string starts with single quote, or if doesn't start with a quotation mark, then surround with double quotations\n",
    "def quote_me(string):\n",
    "    if string.startswith(\"\\\"\"):\n",
    "        return ('\\'' + string + '\\'')\n",
    "    else:\n",
    "        return (\"\\\"\" + string + \"\\\"\")\n",
    "\n",
    "string = input(\"enter a word that starts with quotes or not: \")\n",
    "\n",
    "string2 = quote_me(string)\n",
    "\n",
    "print(string2)\n"
   ]
  },
  {
   "cell_type": "code",
   "execution_count": 9,
   "metadata": {},
   "outputs": [
    {
     "name": "stdout",
     "output_type": "stream",
     "text": [
      "Available\n",
      "Your order is confirmed for Color: WHITE Size:  L\n"
     ]
    }
   ],
   "source": [
    "# [ ] create shirt order using nested if \n",
    "#First get input for color and size\n",
    "#White has sizes L, M\n",
    "#Blue has sizes M, S\n",
    "#print available or unavailable, then\n",
    "#print the order confirmation of color and size\n",
    "#* hint: set a variable \"available = False\" before nested if statements and\n",
    "#change to True if color and size are available*\n",
    "available = \"false\"\n",
    "color = input(\"Enter color:\").capitalize()\n",
    "size = input(\"Enter size:\").upper()\n",
    "if color == \"White\":\n",
    "    if size == \"L\" or size == \"M\":\n",
    "        available = \"true\"\n",
    "        print(\"Available\")\n",
    "    else:\n",
    "        print(\"Unavailable\") \n",
    "if color == \"Blue\":     \n",
    "    if size == \"M\" or size == \"S\":\n",
    "        available = \"true\"\n",
    "        print(\"Available\")\n",
    "    else:\n",
    "        print(\"Unavailable\")    \n",
    "if available == \"true\":\n",
    "    print(\"Your order is confirmed for Color:\", color.upper(), \"Size: \",size)\n",
    "else:\n",
    "    print(\"Sorry! Cannot confirm order at theis time\")    \n",
    "    \n",
    "\n",
    "\n"
   ]
  },
  {
   "cell_type": "code",
   "execution_count": 36,
   "metadata": {},
   "outputs": [
    {
     "name": "stdout",
     "output_type": "stream",
     "text": [
      "Neither alpha nor all digit\n"
     ]
    }
   ],
   "source": [
    "# [ ] create and test str_analysis()\n",
    "#Check if string is digits\n",
    "#if digits: convert to int and check if greater than 99\n",
    "#if greater than 99 print a message about a \"big number\"\n",
    "#if not greater than 99 print message about small number\n",
    "#if not digits: check if string isalpha\n",
    "#if isalpha print message about being all alpha\n",
    "#if not isalpha print a message about being neither all alpha nor all digit\n",
    "#call the function with a string from user input\n",
    "def str_analysis(string):\n",
    "    if string.isdigit() == True:\n",
    "        int_string = int(string)\n",
    "        if int_string > 99:\n",
    "            return(\"Big Number\")\n",
    "        else:\n",
    "            return(\"Small Number\")\n",
    "    elif string.isalpha() == True: \n",
    "        return(\"All alpha\")\n",
    "    else:\n",
    "        return(\"Neither alpha nor all digit\")      \n",
    "        \n",
    "\n",
    "string = input(\"Enter a string\")\n",
    "\n",
    "string = str_analysis(string)\n",
    "\n",
    "print(string)"
   ]
  },
  {
   "cell_type": "code",
   "execution_count": 50,
   "metadata": {},
   "outputs": [
    {
     "name": "stdout",
     "output_type": "stream",
     "text": [
      "True\n"
     ]
    }
   ],
   "source": [
    "# [ ] create and call ticket_check()\n",
    "#Call ticket_check() function with 2 arguments: section and seats requested and return True or False\n",
    "#section is a string and expects: general, floor\n",
    "#seats is an integer and expects: 1 - 10\n",
    "#Check for valid section and seats\n",
    "#if section is general (or use startswith \"g\")\n",
    "#if seats is 1-10 return True\n",
    "#if section is floor (or use starts with \"f\")\n",
    "#if seats is 1-4 return True\n",
    "#otherwise return False\n",
    "def ticket_check(section, seat_requested):\n",
    "    if section == \"general\" or section.startswith(\"g\") == True:\n",
    "        if int(seat_requested) == 1 or int(seat_requested) < 11:\n",
    "            return(\"True\")\n",
    "            if section == \"floor\" or section.startswith(\"f\") == True: \n",
    "                if int(seat_requested) == 1 or int(seat_requested) < 5:\n",
    "                    return(\"True\")\n",
    "                else:\n",
    "                    return(\"False\")      \n",
    "        \n",
    "\n",
    "section = input(\"Enter a section\").lower()\n",
    "seat_requested = input(\"Enter a seat\")\n",
    "\n",
    "\n",
    "available = ticket_check(section, seat_requested)\n",
    "\n",
    "print(available)\n",
    "\n"
   ]
  }
 ],
 "metadata": {
  "interpreter": {
   "hash": "2be5faf79681da6f2a61fdfdd5405d65d042280f7fba6178067603e3a2925119"
  },
  "kernelspec": {
   "display_name": "Python 3.10.4 64-bit",
   "language": "python",
   "name": "python3"
  },
  "language_info": {
   "codemirror_mode": {
    "name": "ipython",
    "version": 3
   },
   "file_extension": ".py",
   "mimetype": "text/x-python",
   "name": "python",
   "nbconvert_exporter": "python",
   "pygments_lexer": "ipython3",
   "version": "3.10.4"
  },
  "orig_nbformat": 4
 },
 "nbformat": 4,
 "nbformat_minor": 2
}
